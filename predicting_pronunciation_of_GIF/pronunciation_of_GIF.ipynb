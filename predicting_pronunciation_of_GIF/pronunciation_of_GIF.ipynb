{
 "cells": [
  {
   "cell_type": "markdown",
   "metadata": {},
   "source": [
    "# How Do You Say \"GIF\"?\n",
    "\n",
    "The goal of this project was to build a classification model to predict how individuals pronounced GIF (i.e., with a hard \"g\", like \"gift\"; with a soft \"g\", like \"jiff\"; or some other way) using responses from the 2017 StackOverflow Developers Survey. "
   ]
  },
  {
   "cell_type": "code",
   "execution_count": 1,
   "metadata": {
    "collapsed": true
   },
   "outputs": [],
   "source": [
    "import numpy as np\n",
    "import pandas as pd\n",
    "import matplotlib.pyplot as plt\n",
    "import seaborn as sns\n",
    "\n",
    "from sklearn.preprocessing import LabelEncoder\n",
    "from sklearn.neighbors import KNeighborsClassifier\n",
    "from sklearn.ensemble import RandomForestClassifier\n",
    "from sklearn.linear_model import LogisticRegression\n",
    "from sklearn.naive_bayes import GaussianNB\n",
    "from sklearn.svm import SVC\n",
    "from sklearn.svm import LinearSVC\n",
    "from sklearn.tree import DecisionTreeClassifier\n",
    "from sklearn.ensemble import RandomForestClassifier\n",
    "\n",
    "from sklearn.preprocessing import MinMaxScaler\n",
    "from sklearn.model_selection import cross_val_score\n",
    "from sklearn.model_selection import cross_val_predict\n",
    "from sklearn.model_selection import train_test_split\n",
    "from sklearn.model_selection import StratifiedKFold\n",
    "from sklearn.metrics import classification_report\n",
    "from sklearn.metrics import confusion_matrix\n",
    "from sklearn.metrics import f1_score\n",
    "from sklearn.preprocessing import Imputer\n",
    "import re\n",
    "\n",
    "import pickle\n",
    "\n",
    "%matplotlib inline"
   ]
  },
  {
   "cell_type": "code",
   "execution_count": 2,
   "metadata": {
    "collapsed": true
   },
   "outputs": [],
   "source": [
    "# load data\n",
    "data = pd.read_csv('./Data/developer_survey_2017/survey_results_public.csv')"
   ]
  },
  {
   "cell_type": "markdown",
   "metadata": {},
   "source": [
    "### Data Wrangling and Feature Engineering\n",
    "\n",
    "Most of the survey responses were multiple choice, resulting in categorical features. In order to fit classification models using the data, at a minimum all the responses need to be converted into dummy variables. As a first pass, I did just this: I converted all features into dummy variables and ran a random forest model. However, the random forest metrics showed poorer performance than the base model. \n",
    "\n",
    "In attempt to try to optimize the model, I tried feature engineering. The feature engineering and model fitting steps were iterated.\n",
    "\n",
    "- Where possible, I tried to create continuous features (i.e., features involving years and time).\n",
    "- After examining each survey question and response, I tried to think of ways to generate new features that would be associated with the target variable."
   ]
  },
  {
   "cell_type": "code",
   "execution_count": 70,
   "metadata": {
    "collapsed": true
   },
   "outputs": [],
   "source": [
    "# remove rows without GIF answers\n",
    "data = data.loc[pd.notnull(data.PronounceGIF),:]\n",
    "data.reset_index(inplace=True)"
   ]
  },
  {
   "cell_type": "code",
   "execution_count": 99,
   "metadata": {
    "collapsed": true
   },
   "outputs": [],
   "source": [
    "# pickle for future use\n",
    "# remove Respondent column\n",
    "pickle.dump(data.iloc[:,1:], open(\"data.pkl\", \"wb\"))"
   ]
  },
  {
   "cell_type": "code",
   "execution_count": 3,
   "metadata": {
    "collapsed": true
   },
   "outputs": [],
   "source": [
    "data = pickle.load(open(\"data.pkl\", 'rb'))"
   ]
  },
  {
   "cell_type": "code",
   "execution_count": 4,
   "metadata": {
    "collapsed": true
   },
   "outputs": [],
   "source": [
    "# keep track of the different features\n",
    "y_column = ['PronounceGIF']\n",
    "cleaned_columns = ['Country', 'ProgramHobby', 'YearsProgram', 'YearsCodedJob', 'YearsCodedJob', 'WorkStart']\n",
    "int_columns = ['CareerSatisfaction','JobSatisfaction','HoursPerWeek','StackOverflowSatisfaction', 'Salary', \n",
    "               'ExpectedSalary', 'YearsProgramInt','YearsCodedJobInt']\n",
    "multiple_responses_columns = ['DeveloperType', 'NonDeveloperType', 'MobileDeveloperType','ImportantBenefits', \n",
    "                              'JobProfile','EducationTypes', 'SelfTaughtTypes', \n",
    "                      'CousinEducation', 'HaveWorkedLanguage', 'WantWorkLanguage', 'HaveWorkedFramework', \n",
    "                      'WantWorkFramework', 'HaveWorkedDatabase', 'WantWorkDatabase', 'HaveWorkedPlatform', \n",
    "                      'WantWorkPlatform', 'IDE', 'Methodology', 'MetricAssess', 'StackOverflowDevices','Gender', 'Race']"
   ]
  },
  {
   "cell_type": "code",
   "execution_count": 18,
   "metadata": {},
   "outputs": [
    {
     "data": {
      "text/plain": [
       "119"
      ]
     },
     "execution_count": 18,
     "metadata": {},
     "output_type": "execute_result"
    }
   ],
   "source": [
    "# identify the remaining columns that don't need cleaning\n",
    "temp = y_column + cleaned_columns + int_columns + multiple_responses_columns\n",
    "other_columns = [x for x in list(data.columns) if x not in temp]\n",
    "len(other_columns)"
   ]
  },
  {
   "cell_type": "code",
   "execution_count": 8,
   "metadata": {},
   "outputs": [
    {
     "name": "stdout",
     "output_type": "stream",
     "text": [
      "<class 'pandas.core.frame.DataFrame'>\n",
      "RangeIndex: 51008 entries, 0 to 51007\n",
      "Data columns (total 153 columns):\n",
      "Professional                        object\n",
      "ProgramHobby                        object\n",
      "Country                             object\n",
      "University                          object\n",
      "EmploymentStatus                    object\n",
      "FormalEducation                     object\n",
      "MajorUndergrad                      object\n",
      "HomeRemote                          object\n",
      "CompanySize                         object\n",
      "CompanyType                         object\n",
      "YearsProgram                        object\n",
      "YearsCodedJob                       object\n",
      "YearsCodedJobPast                   object\n",
      "DeveloperType                       object\n",
      "WebDeveloperType                    object\n",
      "MobileDeveloperType                 object\n",
      "NonDeveloperType                    object\n",
      "CareerSatisfaction                  float64\n",
      "JobSatisfaction                     float64\n",
      "ExCoderReturn                       object\n",
      "ExCoderNotForMe                     object\n",
      "ExCoderBalance                      object\n",
      "ExCoder10Years                      object\n",
      "ExCoderBelonged                     object\n",
      "ExCoderSkills                       object\n",
      "ExCoderWillNotCode                  object\n",
      "ExCoderActive                       object\n",
      "PronounceGIF                        object\n",
      "ProblemSolving                      object\n",
      "BuildingThings                      object\n",
      "LearningNewTech                     object\n",
      "BoringDetails                       object\n",
      "JobSecurity                         object\n",
      "DiversityImportant                  object\n",
      "AnnoyingUI                          object\n",
      "FriendsDevelopers                   object\n",
      "RightWrongWay                       object\n",
      "UnderstandComputers                 object\n",
      "SeriousWork                         object\n",
      "InvestTimeTools                     object\n",
      "WorkPayCare                         object\n",
      "KinshipDevelopers                   object\n",
      "ChallengeMyself                     object\n",
      "CompetePeers                        object\n",
      "ChangeWorld                         object\n",
      "JobSeekingStatus                    object\n",
      "HoursPerWeek                        float64\n",
      "LastNewJob                          object\n",
      "AssessJobIndustry                   object\n",
      "AssessJobRole                       object\n",
      "AssessJobExp                        object\n",
      "AssessJobDept                       object\n",
      "AssessJobTech                       object\n",
      "AssessJobProjects                   object\n",
      "AssessJobCompensation               object\n",
      "AssessJobOffice                     object\n",
      "AssessJobCommute                    object\n",
      "AssessJobRemote                     object\n",
      "AssessJobLeaders                    object\n",
      "AssessJobProfDevel                  object\n",
      "AssessJobDiversity                  object\n",
      "AssessJobProduct                    object\n",
      "AssessJobFinances                   object\n",
      "ImportantBenefits                   object\n",
      "ClickyKeys                          object\n",
      "JobProfile                          object\n",
      "ResumePrompted                      object\n",
      "LearnedHiring                       object\n",
      "ImportantHiringAlgorithms           object\n",
      "ImportantHiringTechExp              object\n",
      "ImportantHiringCommunication        object\n",
      "ImportantHiringOpenSource           object\n",
      "ImportantHiringPMExp                object\n",
      "ImportantHiringCompanies            object\n",
      "ImportantHiringTitles               object\n",
      "ImportantHiringEducation            object\n",
      "ImportantHiringRep                  object\n",
      "ImportantHiringGettingThingsDone    object\n",
      "Currency                            object\n",
      "Overpaid                            object\n",
      "TabsSpaces                          object\n",
      "EducationImportant                  object\n",
      "EducationTypes                      object\n",
      "SelfTaughtTypes                     object\n",
      "TimeAfterBootcamp                   object\n",
      "CousinEducation                     object\n",
      "WorkStart                           object\n",
      "HaveWorkedLanguage                  object\n",
      "WantWorkLanguage                    object\n",
      "HaveWorkedFramework                 object\n",
      "WantWorkFramework                   object\n",
      "HaveWorkedDatabase                  object\n",
      "WantWorkDatabase                    object\n",
      "HaveWorkedPlatform                  object\n",
      "WantWorkPlatform                    object\n",
      "IDE                                 object\n",
      "AuditoryEnvironment                 object\n",
      "Methodology                         object\n",
      "VersionControl                      object\n",
      "CheckInCode                         object\n",
      "ShipIt                              object\n",
      "OtherPeoplesCode                    object\n",
      "ProjectManagement                   object\n",
      "EnjoyDebugging                      object\n",
      "InTheZone                           object\n",
      "DifficultCommunication              object\n",
      "CollaborateRemote                   object\n",
      "MetricAssess                        object\n",
      "EquipmentSatisfiedMonitors          object\n",
      "EquipmentSatisfiedCPU               object\n",
      "EquipmentSatisfiedRAM               object\n",
      "EquipmentSatisfiedStorage           object\n",
      "EquipmentSatisfiedRW                object\n",
      "InfluenceInternet                   object\n",
      "InfluenceWorkstation                object\n",
      "InfluenceHardware                   object\n",
      "InfluenceServers                    object\n",
      "InfluenceTechStack                  object\n",
      "InfluenceDeptTech                   object\n",
      "InfluenceVizTools                   object\n",
      "InfluenceDatabase                   object\n",
      "InfluenceCloud                      object\n",
      "InfluenceConsultants                object\n",
      "InfluenceRecruitment                object\n",
      "InfluenceCommunication              object\n",
      "StackOverflowDescribes              object\n",
      "StackOverflowSatisfaction           float64\n",
      "StackOverflowDevices                object\n",
      "StackOverflowFoundAnswer            object\n",
      "StackOverflowCopiedCode             object\n",
      "StackOverflowJobListing             object\n",
      "StackOverflowCompanyPage            object\n",
      "StackOverflowJobSearch              object\n",
      "StackOverflowNewQuestion            object\n",
      "StackOverflowAnswer                 object\n",
      "StackOverflowMetaChat               object\n",
      "StackOverflowAdsRelevant            object\n",
      "StackOverflowAdsDistracting         object\n",
      "StackOverflowModeration             object\n",
      "StackOverflowCommunity              object\n",
      "StackOverflowHelpful                object\n",
      "StackOverflowBetter                 object\n",
      "StackOverflowWhatDo                 object\n",
      "StackOverflowMakeMoney              object\n",
      "Gender                              object\n",
      "HighestEducationParents             object\n",
      "Race                                object\n",
      "SurveyLong                          object\n",
      "QuestionsInteresting                object\n",
      "QuestionsConfusing                  object\n",
      "InterestedAnswers                   object\n",
      "Salary                              float64\n",
      "ExpectedSalary                      float64\n",
      "dtypes: float64(6), object(147)\n",
      "memory usage: 59.5+ MB\n"
     ]
    }
   ],
   "source": [
    "data.info(verbose=True)"
   ]
  },
  {
   "cell_type": "code",
   "execution_count": 9,
   "metadata": {
    "collapsed": true
   },
   "outputs": [],
   "source": [
    "# create a new data frame for all the clean features\n",
    "data_clean = pd.DataFrame()"
   ]
  },
  {
   "cell_type": "code",
   "execution_count": 10,
   "metadata": {
    "collapsed": true
   },
   "outputs": [],
   "source": [
    "# identify English-speaking countries and create native vs. non-native english speaking countries\n",
    "native_english = ['Antigua and Barbuda','Australia','Bahamas','Barbados','Belize','Canada',\n",
    "                    'Dominica','Grenada','Guyana','Ireland','Jamaica','New Zealand',\n",
    "                    'St Kitts and Nevis','St Lucia','St Vincent and the Grenadines',\n",
    "                    'Trinidad and Tobago','United Kingdom','United States']\n",
    "data_clean['NativeEnglish'] = [1 if x in native_english else 0 for x in data.Country]"
   ]
  },
  {
   "cell_type": "code",
   "execution_count": 11,
   "metadata": {
    "collapsed": true
   },
   "outputs": [],
   "source": [
    "# create separate features for programming as a hobby and contributing to open source\n",
    "data_clean['PHobby'] = data.ProgramHobby.map({'Yes, I program as a hobby ': 1, 'Yes, both': 1, \n",
    "                                        'Yes, I contribute to open source projects': 1, 'No':0})\n",
    "data_clean['OpenSource'] = data.ProgramHobby.map({'Yes, I program as a hobby ': 0, 'Yes, both': 1, \n",
    "                                            'Yes, I contribute to open source projects': 1, 'No':0})\n"
   ]
  },
  {
   "cell_type": "code",
   "execution_count": 12,
   "metadata": {
    "collapsed": true
   },
   "outputs": [],
   "source": [
    "# helper function to extract year\n",
    "def get_year(var):    \n",
    "    if var!=var:\n",
    "        return var\n",
    "    elif var.startswith('Less'):\n",
    "        return '0'\n",
    "    else: \n",
    "        year = ''.join(re.findall(\"^\\d+\", var))\n",
    "        return year"
   ]
  },
  {
   "cell_type": "code",
   "execution_count": 13,
   "metadata": {
    "collapsed": true
   },
   "outputs": [],
   "source": [
    "# convert YearsProgram into a column of integers by taking the lower number of years in the range\n",
    "YearsProgramInt = []\n",
    "for x in data.YearsProgram:\n",
    "    YearsProgramInt.append(get_year(x))\n",
    "\n",
    "data_clean['YearsProgramInt'] = pd.to_numeric(YearsProgramInt, errors='coerce')"
   ]
  },
  {
   "cell_type": "code",
   "execution_count": 14,
   "metadata": {
    "collapsed": true
   },
   "outputs": [],
   "source": [
    "# convert YearsCodedJob into a column of integers by taking the lower number of years in the range\n",
    "YearsCodedJobInt = []\n",
    "for i,x in enumerate(data.YearsCodedJob):\n",
    "    # if YearsCodedJob is NaN, use YearsCodedJobPast\n",
    "    if x!=x:\n",
    "        try:\n",
    "            YearsCodedJobInt.append(get_year(data.YearsCodedJobPast[i]))\n",
    "        except KeyError:\n",
    "            YearsCodedJobInt.append(x)\n",
    "    else:\n",
    "        YearsCodedJobInt.append(get_year(x))\n",
    "        \n",
    "data_clean['YearsCodedJobInt'] = pd.to_numeric(YearsCodedJobInt, errors='coerce')"
   ]
  },
  {
   "cell_type": "code",
   "execution_count": 15,
   "metadata": {},
   "outputs": [
    {
     "data": {
      "text/plain": [
       "0.79814009604943137"
      ]
     },
     "execution_count": 15,
     "metadata": {},
     "output_type": "execute_result"
    }
   ],
   "source": [
    "data_clean.YearsProgramInt.corr(data_clean.YearsCodedJobInt)"
   ]
  },
  {
   "cell_type": "code",
   "execution_count": 16,
   "metadata": {
    "collapsed": true
   },
   "outputs": [],
   "source": [
    "# convert WorkStartInt into a column of integers using 24 hour clock\n",
    "WorkStartInt = []\n",
    "for t in data.WorkStart:\n",
    "    pm = 0\n",
    "\n",
    "    if t!=t:\n",
    "        WorkStartInt.append(np.nan)\n",
    "    elif t=='Midnight':\n",
    "        WorkStartInt.append(0)\n",
    "    elif t=='Noon':\n",
    "        WorkStartInt.append(12)\n",
    "    else:\n",
    "        if 'PM' in t:\n",
    "            pm = 12\n",
    "        WorkStartInt.append(int(re.findall(\"^\\d+\", t)[0]) + pm)\n",
    "        \n",
    "data_clean['WorkStartInt'] = pd.to_numeric(WorkStartInt, errors='coerce')"
   ]
  },
  {
   "cell_type": "code",
   "execution_count": 17,
   "metadata": {
    "collapsed": true
   },
   "outputs": [],
   "source": [
    "# helper functions to separate questions with multiple responses\n",
    "def get_unique_responses(col):\n",
    "    \"\"\"returns list of unique responses in feature with multiple responses per person\"\"\"\n",
    "    responses = []\n",
    "    \n",
    "    for x in col:\n",
    "        if x!=x:\n",
    "            continue\n",
    "        elif len(x.split(';')) > 0:\n",
    "            responses.extend(list(set(x.split(';'))))\n",
    "            \n",
    "    responses = [s.strip() for s in responses]\n",
    "    return list(set(responses))\n",
    "\n",
    "\n",
    "def get_dummy_variables(col, prefix, to_df):\n",
    "    \"\"\"returns data frame of dummy variables for each unique responses from features with\n",
    "    multiple responses per person\"\"\"\n",
    "    unique_responses = get_unique_responses(col)\n",
    "    \n",
    "    for u in unique_responses:\n",
    "        temp = []\n",
    "        \n",
    "        for x in col:\n",
    "            if x!=x:\n",
    "                temp.append(0)\n",
    "            elif u in x:\n",
    "                temp.append(1)\n",
    "            else:\n",
    "                temp.append(0)\n",
    "\n",
    "        name = prefix + '_' + u\n",
    "        to_df[name] = temp\n",
    "    return to_df\n"
   ]
  },
  {
   "cell_type": "code",
   "execution_count": 19,
   "metadata": {
    "collapsed": true
   },
   "outputs": [],
   "source": [
    "# count the number of items checked in questions with multiple responses\n",
    "for index, col in enumerate(multiple_responses_columns):\n",
    "    #\n",
    "    names = multiple_responses_columns[index] + '_counts'\n",
    "    data_clean[names] = [len(x.split(';')) if type(x)==str else np.nan for x in data[col]]"
   ]
  },
  {
   "cell_type": "code",
   "execution_count": 20,
   "metadata": {
    "collapsed": true
   },
   "outputs": [],
   "source": [
    "# get dummy variables for each item in questions with multiple responses\n",
    "for c in multiple_responses_columns:\n",
    "    get_dummy_variables(data[c], c, data_clean)"
   ]
  },
  {
   "cell_type": "code",
   "execution_count": 21,
   "metadata": {
    "collapsed": true
   },
   "outputs": [],
   "source": [
    "# dummy code remaining columns\n",
    "for c in other_columns:\n",
    "    dummy_coded = pd.get_dummies(data[c], prefix=c)\n",
    "    data_clean = data_clean.merge(dummy_coded,left_index=True, right_index=True)"
   ]
  },
  {
   "cell_type": "code",
   "execution_count": 22,
   "metadata": {
    "scrolled": false
   },
   "outputs": [
    {
     "name": "stdout",
     "output_type": "stream",
     "text": [
      "<class 'pandas.core.frame.DataFrame'>\n",
      "RangeIndex: 51008 entries, 0 to 51007\n",
      "Columns: 989 entries, NativeEnglish to InterestedAnswers_Strongly disagree\n",
      "dtypes: float64(27), int64(297), uint8(665)\n",
      "memory usage: 158.4 MB\n"
     ]
    }
   ],
   "source": [
    "data_clean.info()"
   ]
  },
  {
   "cell_type": "code",
   "execution_count": 198,
   "metadata": {
    "collapsed": true
   },
   "outputs": [],
   "source": [
    "# pickled for future use\n",
    "pickle.dump(data_clean, open(\"data_clean.pkl\", \"wb\"))"
   ]
  },
  {
   "cell_type": "markdown",
   "metadata": {},
   "source": [
    "### Preparing Data for Model Fitting"
   ]
  },
  {
   "cell_type": "code",
   "execution_count": 17,
   "metadata": {
    "collapsed": true
   },
   "outputs": [],
   "source": [
    "data_clean = pickle.load(open(\"data_clean.pkl\", 'rb'))"
   ]
  },
  {
   "cell_type": "code",
   "execution_count": 5,
   "metadata": {
    "collapsed": true,
    "scrolled": true
   },
   "outputs": [],
   "source": [
    "# extract target variable\n",
    "y = data.pop('PronounceGIF')"
   ]
  },
  {
   "cell_type": "code",
   "execution_count": 6,
   "metadata": {},
   "outputs": [
    {
     "data": {
      "text/plain": [
       "With a hard \"g,\" like \"gift\"    0.656446\n",
       "With a soft \"g,\" like \"jiff\"    0.262861\n",
       "Some other way                  0.080693\n",
       "Name: PronounceGIF, dtype: float64"
      ]
     },
     "execution_count": 6,
     "metadata": {},
     "output_type": "execute_result"
    }
   ],
   "source": [
    "# create only 3 classes in target variable\n",
    "y[y=='Enunciating each letter: \"gee eye eff\"'] = \"Some other way\"\n",
    "y.value_counts()/y.value_counts().sum()"
   ]
  },
  {
   "cell_type": "code",
   "execution_count": 7,
   "metadata": {},
   "outputs": [
    {
     "name": "stdout",
     "output_type": "stream",
     "text": [
      "['Some other way' 'With a hard \"g,\" like \"gift\"'\n",
      " 'With a soft \"g,\" like \"jiff\"']\n"
     ]
    }
   ],
   "source": [
    "# encode target classes as integers for model fitting\n",
    "y_transformer = LabelEncoder()\n",
    "y_le = y_transformer.fit_transform(y)\n",
    "print(y_transformer.classes_)"
   ]
  },
  {
   "cell_type": "code",
   "execution_count": 8,
   "metadata": {},
   "outputs": [
    {
     "data": {
      "text/plain": [
       "(array([  4116.,      0.,      0.,      0.,      0.,  33484.,      0.,\n",
       "             0.,      0.,  13408.]),\n",
       " array([ 0. ,  0.2,  0.4,  0.6,  0.8,  1. ,  1.2,  1.4,  1.6,  1.8,  2. ]),\n",
       " <a list of 10 Patch objects>)"
      ]
     },
     "execution_count": 8,
     "metadata": {},
     "output_type": "execute_result"
    },
    {
     "data": {
      "image/png": "[encoded data removed]",
      "text/plain": [
       "<matplotlib.figure.Figure at 0x114a7de48>"
      ]
     },
     "metadata": {},
     "output_type": "display_data"
    }
   ],
   "source": [
    "# frequency count of target classes\n",
    "plt.hist(y_le)"
   ]
  },
  {
   "cell_type": "code",
   "execution_count": 9,
   "metadata": {
    "collapsed": true
   },
   "outputs": [],
   "source": [
    "# pickled for future use\n",
    "pickle.dump(y_le, open(\"y_le.pkl\", \"wb\"))"
   ]
  },
  {
   "cell_type": "code",
   "execution_count": 10,
   "metadata": {
    "collapsed": true
   },
   "outputs": [],
   "source": [
    "# omit features that were at the bottom of the feature importance list (based on intial random forest model)\n",
    "omit_prefix = [\"ExCoder\", \"AssessJob\", \"ImportantHiring\", \"CousinEducation\", \"EquipmentSatisfied\",\n",
    "              \"Influence\", \"StackOverflow\", \"SurveyLong\", \"Questions\", \"InterestedAnswers\", \n",
    "               \"Salary\", \"ExpectedSalary\", \"JobProfile\", \"ResumeProfile\", \"LearnedHiring\", \"Company\",\n",
    "              \"YearsCodedJobInt\"]\n",
    "omit = [col.startswith(tuple(omit_prefix)) for col in data_clean.columns]\n",
    "omit_columns = data_clean.columns[omit]\n",
    "keep_columns = [col for col in data_clean if col not in omit_columns]"
   ]
  },
  {
   "cell_type": "code",
   "execution_count": 11,
   "metadata": {
    "collapsed": true
   },
   "outputs": [],
   "source": [
    "# create clean and reduced features data frame for model fitting\n",
    "X = data_clean[keep_columns]"
   ]
  },
  {
   "cell_type": "code",
   "execution_count": 12,
   "metadata": {
    "collapsed": true
   },
   "outputs": [],
   "source": [
    "# impute missing values with the feature's median value\n",
    "X_imputed = pd.DataFrame(Imputer(missing_values='NaN', strategy='median', axis=0).fit_transform(X))"
   ]
  },
  {
   "cell_type": "code",
   "execution_count": 13,
   "metadata": {
    "collapsed": true
   },
   "outputs": [],
   "source": [
    "# scale all features\n",
    "X_imputed_scaled = pd.DataFrame(MinMaxScaler().fit_transform(X_imputed))\n",
    "X_imputed_scaled.columns = X.columns"
   ]
  },
  {
   "cell_type": "code",
   "execution_count": 14,
   "metadata": {
    "collapsed": true
   },
   "outputs": [],
   "source": [
    "# pickle data frame for future use\n",
    "pickle.dump(X_imputed_scaled, open(\"X_imputed_scaled.pkl\", \"wb\"))"
   ]
  },
  {
   "cell_type": "markdown",
   "metadata": {},
   "source": [
    "### Model Fitting\n",
    "\n",
    "For this project, I fit a number of different classification models (e.g., logistic regression, K Nearest Neighbors, and Random Forest). For models that had a better f1 and/or accuracy scores, I also tried to tune the hyperparameters. Since my AWS instance was having trouble with GridSearchCV, I used for loops to try out a range of hyperparameters to find the best one."
   ]
  },
  {
   "cell_type": "code",
   "execution_count": 2,
   "metadata": {
    "collapsed": true
   },
   "outputs": [],
   "source": [
    "X_imputed_scaled = pickle.load(open(\"X_imputed_scaled.pkl\", 'rb'))\n",
    "y_le = pickle.load(open(\"y_le.pkl\", 'rb'))"
   ]
  },
  {
   "cell_type": "code",
   "execution_count": 27,
   "metadata": {},
   "outputs": [
    {
     "data": {
      "text/plain": [
       "array([ 0.08069322,  0.65644605,  0.26286073])"
      ]
     },
     "execution_count": 27,
     "metadata": {},
     "output_type": "execute_result"
    }
   ],
   "source": [
    "# proportion of each class\n",
    "y_prop = np.unique(y_le, return_counts=True)[1]/sum(np.unique(y_le, return_counts=True)[1])\n",
    "y_prop"
   ]
  },
  {
   "cell_type": "code",
   "execution_count": 32,
   "metadata": {},
   "outputs": [
    {
     "data": {
      "text/plain": [
       "[4116, 33484, 13408]"
      ]
     },
     "execution_count": 32,
     "metadata": {},
     "output_type": "execute_result"
    }
   ],
   "source": [
    "list(np.unique(y_le, return_counts=True)[1])"
   ]
  },
  {
   "cell_type": "code",
   "execution_count": 15,
   "metadata": {
    "collapsed": true
   },
   "outputs": [],
   "source": [
    "X_train, X_test, y_train, y_test = train_test_split(X_imputed_scaled, y_le, stratify=y_le, test_size=0.3, random_state=4444)"
   ]
  },
  {
   "cell_type": "markdown",
   "metadata": {},
   "source": [
    "#### Base Model"
   ]
  },
  {
   "cell_type": "code",
   "execution_count": 17,
   "metadata": {},
   "outputs": [
    {
     "data": {
      "text/plain": [
       "array([[    0,  4116,     0],\n",
       "       [    0, 33484,     0],\n",
       "       [    0, 13408,     0]])"
      ]
     },
     "execution_count": 17,
     "metadata": {},
     "output_type": "execute_result"
    }
   ],
   "source": [
    "# predict that everyone pronounces GIF with a hard \"g\" (value of 1)\n",
    "pred_constant = np.ones(y_le.shape)\n",
    "confusion_matrix(y_le, pred_constant)"
   ]
  },
  {
   "cell_type": "code",
   "execution_count": 34,
   "metadata": {},
   "outputs": [
    {
     "name": "stdout",
     "output_type": "stream",
     "text": [
      "f1 score: 0.389236983967729\n",
      "accuracy score: 0.6564460476787954\n"
     ]
    }
   ],
   "source": [
    "# f1 (unweighted) and accuracy score\n",
    "accuracy = sum(y_le == pred_constant)/len(pred_constant)\n",
    "f1 = f1_score(y_le, y_pred, average=\"macro\")\n",
    "\n",
    "print(f\"f1 score: {f1}\")\n",
    "print(f\"accuracy score: {accuracy}\")"
   ]
  },
  {
   "cell_type": "code",
   "execution_count": 20,
   "metadata": {},
   "outputs": [
    {
     "name": "stdout",
     "output_type": "stream",
     "text": [
      "                               precision    recall  f1-score   support\n",
      "\n",
      "  With a hard \"g,\" like \"gift       0.00      0.00      0.00      4116\n",
      "With a soft \"g,\" like \"jiff”        0.66      1.00      0.79     33484\n",
      "                        Other       0.00      0.00      0.00     13408\n",
      "\n",
      "                  avg / total       0.43      0.66      0.52     51008\n",
      "\n"
     ]
    },
    {
     "name": "stderr",
     "output_type": "stream",
     "text": [
      "/anaconda/lib/python3.6/site-packages/sklearn/metrics/classification.py:1113: UndefinedMetricWarning: Precision and F-score are ill-defined and being set to 0.0 in labels with no predicted samples.\n",
      "  'precision', 'predicted', average, warn_for)\n"
     ]
    }
   ],
   "source": [
    "# f1 (weighted), precision, and recall scores\n",
    "print(classification_report(y_le, pred_constant, target_names=['With a hard \"g,\" like \"gift' , 'With a soft \"g,\" like \"jiff” ', 'Other']))"
   ]
  },
  {
   "cell_type": "markdown",
   "metadata": {},
   "source": [
    "#### Logistic Regression"
   ]
  },
  {
   "cell_type": "code",
   "execution_count": 3,
   "metadata": {
    "collapsed": true
   },
   "outputs": [],
   "source": [
    "# helper function to fit models\n",
    "# def classification_metrics(X, y, classifier):\n",
    "#     cross_validator = StratifiedKFold(n_splits=5, shuffle=True, random_state=4444)\n",
    "#     acc_median = np.median(cross_val_score(classifier, X, y, cv=cross_validator, scoring='accuracy', n_jobs=2))\n",
    "#     f1_median = np.median(cross_val_score(classifier, X, y, cv=cross_validator, scoring='f1_macro', n_jobs=2))\n",
    "#     return f1_median, acc_median\n",
    "\n",
    "def classification_metrics(X, y, classifier):\n",
    "    cross_validator = StratifiedKFold(n_splits=5, shuffle=True, random_state=4444)\n",
    "    y_pred = cross_val_predict(classifier, X_imputed_scaled, y_le, cv=cross_validator, n_jobs=2)\n",
    "    f1 = f1_score(y_le, y_pred, average=\"macro\")\n",
    "    accuracy = sum(y_le==y_pred)/len(y_le)\n",
    "    return y_pred, f1, accuracy\n",
    "    \n",
    "#     print(f'accuracy score: {accuracy}', )\n",
    "#     print(classification_report(y_le, y_pred, target_names=['With a hard \"g,\" like \"gift' ,\n",
    "#                                                             'With a soft \"g,\" like \"jiff” ', 'Other']))"
   ]
  },
  {
   "cell_type": "code",
   "execution_count": 12,
   "metadata": {},
   "outputs": [
    {
     "name": "stdout",
     "output_type": "stream",
     "text": [
      "f1: 0.3623424849203028\n",
      "accuracy: 0.6808735884567126\n"
     ]
    }
   ],
   "source": [
    "# with minimal regularization penalty\n",
    "lr = LogisticRegression(C=0.01)\n",
    "y_pred, f1, accuracy = classification_metrics(X_imputed_scaled, y_le, lr)\n",
    "print(f\"f1: {f1}\")\n",
    "print(f\"accuracy: {accuracy}\")"
   ]
  },
  {
   "cell_type": "markdown",
   "metadata": {},
   "source": [
    "#### Logistic Regression - Lasso"
   ]
  },
  {
   "cell_type": "code",
   "execution_count": 35,
   "metadata": {},
   "outputs": [
    {
     "name": "stdout",
     "output_type": "stream",
     "text": [
      "[(0.12, 0.36994790393498539, 0.68234394604767878)]\n"
     ]
    }
   ],
   "source": [
    "# try out different hyperparameter values for regularization starting from a large range and narrow down to find best one\n",
    "alphas = [0.12] # based on previous searches\n",
    "lasso_accuracy = []\n",
    "lasso_f1 = []\n",
    "    \n",
    "for alpha in alphas[0:1]:\n",
    "    lasso = LogisticRegression(penalty='l1', solver='liblinear', C=0.105)\n",
    "    y_pred, f1, accuracy = classification_metrics(X_imputed_scaled, y_le, lasso)\n",
    "    lasso_accuracy.append(accuracy)\n",
    "    lasso_f1.append(f1)\n",
    "\n",
    "zip_list = list(zip(alphas, lasso_f1, lasso_accuracy))\n",
    "print(zip_list)"
   ]
  },
  {
   "cell_type": "markdown",
   "metadata": {},
   "source": [
    "#### Logistic Regression with L2 Regularization (Ridge)"
   ]
  },
  {
   "cell_type": "code",
   "execution_count": 13,
   "metadata": {},
   "outputs": [
    {
     "name": "stdout",
     "output_type": "stream",
     "text": [
      "[(1.8, 0.38923698396772899, 0.681206869510665)]\n"
     ]
    }
   ],
   "source": [
    "# try out different hyperparameter values for regularization starting from a large range and narrow down to find best one\n",
    "alphas = [1.8]\n",
    "ridge_accuracy = []\n",
    "ridge_f1 = []\n",
    "\n",
    "for alpha in alphas:\n",
    "    ridge = LogisticRegression(penalty='l2', solver='liblinear', C=alpha)\n",
    "    y_pred, f1, accuracy = classification_metrics(X_imputed_scaled, y_le, ridge)\n",
    "    ridge_accuracy.append(accuracy)\n",
    "    ridge_f1.append(f1)\n",
    "\n",
    "zip_list = list(zip(alphas, ridge_f1, ridge_accuracy))\n",
    "print(zip_list)"
   ]
  },
  {
   "cell_type": "code",
   "execution_count": 14,
   "metadata": {},
   "outputs": [
    {
     "name": "stdout",
     "output_type": "stream",
     "text": [
      "                               precision    recall  f1-score   support\n",
      "\n",
      "  With a hard \"g,\" like \"gift       0.37      0.05      0.09      4116\n",
      "With a soft \"g,\" like \"jiff”        0.70      0.96      0.81     33484\n",
      "                        Other       0.51      0.18      0.27     13408\n",
      "\n",
      "                  avg / total       0.63      0.68      0.61     51008\n",
      "\n"
     ]
    }
   ],
   "source": [
    "# f1 (weighted), precision, and recall scores\n",
    "print(classification_report(y_le, y_pred, target_names=['With a hard \"g,\" like \"gift' ,\n",
    "                                                  'With a soft \"g,\" like \"jiff” ', 'Other']))"
   ]
  },
  {
   "cell_type": "markdown",
   "metadata": {},
   "source": [
    "#### K Nearest Neighbours"
   ]
  },
  {
   "cell_type": "code",
   "execution_count": 38,
   "metadata": {},
   "outputs": [
    {
     "name": "stdout",
     "output_type": "stream",
     "text": [
      "[(18, 0.32232250112084482, 0.65283877038895854)]\n"
     ]
    }
   ],
   "source": [
    "# try out different hyperparameter values for n_neighbors starting from a large range and narrow down to find best one\n",
    "neighbors = [18] # based on previous searches\n",
    "knn_accuracy = []\n",
    "knn_f1 = []\n",
    "\n",
    "for n in neighbors:\n",
    "    knn = KNeighborsClassifier(n_neighbors=n)\n",
    "    y_pred, f1, accuracy = classification_metrics(X_imputed_scaled, y_le, knn)\n",
    "    knn_accuracy.append(accuracy)\n",
    "    knn_f1.append(f1)\n",
    "\n",
    "zip_list = list(zip(neighbors, knn_f1, knn_accuracy))\n",
    "print(zip_list)\n"
   ]
  },
  {
   "cell_type": "markdown",
   "metadata": {},
   "source": [
    "#### Decision Tree"
   ]
  },
  {
   "cell_type": "code",
   "execution_count": 40,
   "metadata": {},
   "outputs": [
    {
     "data": {
      "text/plain": [
       "(array([1, 1, 1, ..., 1, 2, 1]), 0.40341836775028844, 0.55812813676286077)"
      ]
     },
     "execution_count": 40,
     "metadata": {},
     "output_type": "execute_result"
    }
   ],
   "source": [
    "classification_metrics(X_imputed_scaled, y_le, DecisionTreeClassifier())"
   ]
  },
  {
   "cell_type": "code",
   "execution_count": 41,
   "metadata": {},
   "outputs": [
    {
     "name": "stdout",
     "output_type": "stream",
     "text": [
      "                               precision    recall  f1-score   support\n",
      "\n",
      "  With a hard \"g,\" like \"gift       0.27      0.02      0.04      4116\n",
      "With a soft \"g,\" like \"jiff”        0.67      0.96      0.79     33484\n",
      "                        Other       0.38      0.08      0.13     13408\n",
      "\n",
      "                  avg / total       0.56      0.65      0.56     51008\n",
      "\n"
     ]
    }
   ],
   "source": [
    "# f1 (weighted), precision, and recall scores\n",
    "print(classification_report(y_le, y_pred, target_names=['With a hard \"g,\" like \"gift' ,\n",
    "                                                  'With a soft \"g,\" like \"jiff” ', 'Other']))"
   ]
  },
  {
   "cell_type": "markdown",
   "metadata": {},
   "source": [
    "#### Linear SVM"
   ]
  },
  {
   "cell_type": "code",
   "execution_count": 42,
   "metadata": {},
   "outputs": [
    {
     "data": {
      "text/plain": [
       "(array([1, 1, 1, ..., 1, 1, 1]), 0.37365168154668443, 0.68234394604767878)"
      ]
     },
     "execution_count": 42,
     "metadata": {},
     "output_type": "execute_result"
    }
   ],
   "source": [
    "classification_metrics(X_imputed_scaled, y_le, LinearSVC())"
   ]
  },
  {
   "cell_type": "markdown",
   "metadata": {
    "collapsed": true
   },
   "source": [
    "#### Random Forest\n",
    "\n",
    "The random forest model turned out to have the best f1 score, although the accuracy score is slightly lower than the base model."
   ]
  },
  {
   "cell_type": "code",
   "execution_count": 12,
   "metadata": {},
   "outputs": [
    {
     "name": "stdout",
     "output_type": "stream",
     "text": [
      "[['gini', 'sqrt', 84, 4, 0.4484522274780865, 0.64262468632371395]]\n"
     ]
    }
   ],
   "source": [
    "# try out different tuning parameter values and narrow down to find best one\n",
    "# based on previous searches\n",
    "leaf = [4]\n",
    "maxfeatures = [\"sqrt\"]\n",
    "crit = [\"gini\"]\n",
    "n_est = [84]\n",
    "rf_accuracy = []\n",
    "rf_f1 = []\n",
    "results = []\n",
    "\n",
    "for c in crit:\n",
    "    for mf in maxfeatures:\n",
    "        for n in n_est:\n",
    "            for p in leaf:\n",
    "                rf = RandomForestClassifier(criterion=c, max_features=mf, n_estimators=n, min_samples_leaf=p, class_weight=\"balanced\")\n",
    "                y_pred, f1, accuracy = classification_metrics(X_imputed_scaled, y_le, rf)\n",
    "                rf_accuracy.append(accuracy)\n",
    "                rf_f1.append(f1)\n",
    "                results.append([c, mf, n, p, f1, accuracy])\n",
    "\n",
    "    print(results)"
   ]
  },
  {
   "cell_type": "code",
   "execution_count": 13,
   "metadata": {},
   "outputs": [
    {
     "data": {
      "text/plain": [
       "array([[ 1002,  1632,  1482],\n",
       "       [ 1785, 28282,  3417],\n",
       "       [ 1583,  8330,  3495]])"
      ]
     },
     "execution_count": 13,
     "metadata": {},
     "output_type": "execute_result"
    }
   ],
   "source": [
    "cm = confusion_matrix(y_le, y_pred)\n",
    "cm"
   ]
  },
  {
   "cell_type": "markdown",
   "metadata": {},
   "source": [
    "#### Important Features"
   ]
  },
  {
   "cell_type": "code",
   "execution_count": 18,
   "metadata": {},
   "outputs": [
    {
     "data": {
      "text/plain": [
       "[('IDE_Komodo', 0.033604911299771931),\n",
       " ('YearsProgramInt', 0.032826200203136424),\n",
       " ('NativeEnglish', 0.017613211013526149),\n",
       " ('BuildingThings_Somewhat agree', 0.0124299335472509),\n",
       " ('YearsCodedJobInt', 0.011142428095903502),\n",
       " ('Methodology_Evidence-based SWE', 0.010378076303040341),\n",
       " ('HaveWorkedPlatform_counts', 0.0089208028403796134),\n",
       " ('EducationTypes_counts', 0.0088363854503249809),\n",
       " ('WantWorkPlatform_counts', 0.0086530057486799185),\n",
       " ('SelfTaughtTypes_counts', 0.0084429031907262732),\n",
       " ('ImportantBenefits_counts', 0.0083154491365975778),\n",
       " ('WorkStartInt', 0.008300652716973219),\n",
       " ('WantWorkDatabase_counts', 0.0079208655535478335),\n",
       " ('JobProfile_counts', 0.0074574033261342928),\n",
       " ('HaveWorkedDatabase_counts', 0.006467517081052968),\n",
       " ('MetricAssess_Commit frequency', 0.0062777385450907301),\n",
       " ('WantWorkFramework_counts', 0.0057461670089106734),\n",
       " ('Methodology_Domain-driven design', 0.0057007613379279334),\n",
       " ('ExCoderWillNotCode_Disagree', 0.0055197074898176201),\n",
       " ('MobileDeveloperType_counts', 0.0055134834617903816),\n",
       " ('Race_White or of European descent', 0.0053189939652953031),\n",
       " ('JobProfile_Remix_jobs', 0.0053027161894384006),\n",
       " ('WantWorkLanguage_counts', 0.0052426427506139092),\n",
       " ('IDE_Vim', 0.0052199834354104456),\n",
       " ('HaveWorkedLanguage_counts', 0.0050681038411738571),\n",
       " ('WantWorkPlatform_Arduino', 0.0050680701507104589),\n",
       " ('HaveWorkedFramework_counts', 0.0050120136252279823),\n",
       " ('Race_South Asian', 0.0049905324466340238),\n",
       " ('BuildingThings_Disagree', 0.004962084267925466),\n",
       " ('ExCoderBelonged_Strongly disagree', 0.0049540427390813574),\n",
       " ('ExCoderWillNotCode_Agree', 0.0047808545601668671),\n",
       " ('RightWrongWay_Strongly agree', 0.0046874344759809897),\n",
       " ('JobSecurity_Strongly agree', 0.0046560967764594915),\n",
       " ('UnderstandComputers_Disagree', 0.0046192280714319233),\n",
       " ('IDE_Atom', 0.0045699733011871479),\n",
       " ('ImportantBenefits_Professional development sponsorship',\n",
       "  0.0045577078360410197),\n",
       " ('University_I prefer not to say', 0.0045525261103391496),\n",
       " ('Methodology_Waterfall', 0.0045235178071212226),\n",
       " ('DeveloperType_Developer with a statistics or mathematics background',\n",
       "  0.0043621999411399496),\n",
       " ('MetricAssess_Self-rating', 0.0042692623677082521),\n",
       " ('Methodology_Pair', 0.0041221439241260274),\n",
       " ('Methodology_Lean', 0.0041195790463683726),\n",
       " ('MobileDeveloperType_Blackberry', 0.0041118939433970898),\n",
       " ('ImportantBenefits_None of these', 0.0040813668864130188),\n",
       " ('BoringDetails_Disagree', 0.004076054627210236),\n",
       " ('JobProfile_TripleByte', 0.0039952018428993305),\n",
       " ('ImportantBenefits_Stock options', 0.0039937468098141197),\n",
       " ('WantWorkPlatform_iOS', 0.0039128255998418472),\n",
       " ('JobSecurity_Strongly disagree', 0.003849923649193641),\n",
       " ('JobSecurity_Somewhat agree', 0.0037752685018737804),\n",
       " ('MajorUndergrad_Mathematics or statistics', 0.0037671120723899226),\n",
       " ('JobProfile_Dice', 0.0037540551256679731),\n",
       " ('ExCoderNotForMe_Somewhat agree', 0.0037313121268255263),\n",
       " ('MajorUndergrad_Computer science or software engineering',\n",
       "  0.0037227520813997569),\n",
       " ('CousinEducation_counts', 0.0037216645081414889),\n",
       " ('JobProfile_Pracuj', 0.0036921028580111648),\n",
       " ('YearsCodedJobPast_2 to 3 years', 0.0036913790255700555),\n",
       " ('MetricAssess_Benchmarked product performance', 0.0036541519973612344),\n",
       " ('ImportantBenefits_Education sponsorship', 0.003641459200601568),\n",
       " (\"HomeRemote_All or almost all the time (I'm full-time remote)\",\n",
       "  0.0035616836776699323),\n",
       " ('StackOverflowDevices_Android browser', 0.0035436683291397418),\n",
       " ('CompanySize_10,000 or more employees', 0.0034897591767670141),\n",
       " ('WebDeveloperType_Front-end Web developer', 0.0034408230682456387),\n",
       " (\"JobSeekingStatus_I'm not actively looking, but I am open to new opportunities\",\n",
       "  0.0034316274492459625),\n",
       " ('IDE_Eclipse', 0.0034297173073673296),\n",
       " ('WantWorkLanguage_Assembly', 0.003427242352339497),\n",
       " ('WantWorkPlatform_Linux Desktop', 0.0034219949548070895),\n",
       " ('ImportantBenefits_Equipment', 0.0033821528730082545),\n",
       " ('YearsCodedJobPast_13 to 14 years', 0.0033544474446263193),\n",
       " ('ExCoderReturn_Somewhat agree', 0.0033460816880952933),\n",
       " ('CousinEducation_Conferences/meet-ups', 0.0033417242597492481),\n",
       " ('PHobby', 0.0033370393694079912),\n",
       " ('CompanySize_Fewer than 10 employees', 0.0033316747091857103),\n",
       " ('InvestTimeTools_Strongly agree', 0.0033289017458426268),\n",
       " ('ExCoderSkills_Somewhat agree', 0.0033251482642118039),\n",
       " ('IDE_NetBeans', 0.0032874957479957462),\n",
       " ('HaveWorkedLanguage_Rust', 0.0032558341980188201),\n",
       " ('OpenSource', 0.0032454472883281034),\n",
       " ('HaveWorkedPlatform_Windows Desktop', 0.003241427628998198),\n",
       " ('DeveloperType_Machine learning specialist', 0.0032346794302585804),\n",
       " ('HaveWorkedPlatform_Arduino', 0.0032322472747404033),\n",
       " ('MajorUndergrad_I never declared a major', 0.0032264981987109162),\n",
       " ('YearsCodedJobPast_12 to 13 years', 0.0032050127812656044),\n",
       " ('HomeRemote_More than half, but not all, the time', 0.0032030093191588865),\n",
       " ('ExCoderBelonged_Strongly agree', 0.0031900262070819023),\n",
       " ('MobileDeveloperType_Windows Phone', 0.0031841023236853887),\n",
       " ('YearsCodedJobPast_6 to 7 years', 0.0031722203632206032),\n",
       " ('KinshipDevelopers_Strongly agree', 0.0031696076534480162),\n",
       " ('CousinEducation_Contribute to open source', 0.003163891298742832),\n",
       " ('SelfTaughtTypes_Other', 0.0031379075340848867),\n",
       " ('CompanyType_Privately-held limited company, not in startup mode',\n",
       "  0.0031369531215273),\n",
       " ('JobProfile_CW_Jobs', 0.0031008080272613573),\n",
       " ('EducationTypes_Online course', 0.0030986802815366012),\n",
       " ('HaveWorkedLanguage_Visual Basic 6', 0.0030972854463261722),\n",
       " ('MajorUndergrad_Something else', 0.0030947520276909464),\n",
       " ('CompetePeers_Strongly agree', 0.0030827190620979442),\n",
       " ('HaveWorkedLanguage_Erlang', 0.0030704038959970463),\n",
       " ('StackOverflowDevices_Other phone browser', 0.0030599107147433573),\n",
       " ('ChangeWorld_Disagree', 0.0030540856878965811),\n",
       " ('WantWorkPlatform_Serverless', 0.0030425470843700691),\n",
       " ('YearsCodedJobPast_11 to 12 years', 0.0030360895288880844),\n",
       " ('CompanyType_I prefer not to answer', 0.0030357899101687547),\n",
       " ('JobProfile_Talent.io', 0.0029878883515927239),\n",
       " ('IDE_PyCharm', 0.0029747240042374023),\n",
       " ('JobProfile_Reed.co.uk', 0.0029734464829492603),\n",
       " ('CompanyType_Something else', 0.0029720551354075649),\n",
       " ('HaveWorkedLanguage_Common Lisp', 0.0029596319442996588),\n",
       " ('ChallengeMyself_Somewhat agree', 0.0029595365478636325),\n",
       " ('ExCoderReturn_Strongly disagree', 0.0029487218834613402),\n",
       " ('SelfTaughtTypes_Stack Overflow Docs', 0.0029223771684983263),\n",
       " (\"CousinEducation_Master's degree\", 0.0028563414553829775),\n",
       " ('ExCoderBalance_Agree', 0.0028435552588305787),\n",
       " ('WantWorkFramework_.NET Core', 0.0028374130241209084),\n",
       " ('ImportantBenefits_Retirement', 0.002829879103702589),\n",
       " ('HomeRemote_Never', 0.0028259573210272426),\n",
       " ('YearsCodedJobPast_4 to 5 years', 0.0028095350997424311),\n",
       " ('MajorUndergrad_A social science', 0.002807085506024726),\n",
       " ('AssessJobIndustry_Somewhat important', 0.0027874619927922843),\n",
       " ('YearsCodedJobPast_16 to 17 years', 0.0027632178557366006),\n",
       " ('ProblemSolving_Strongly agree', 0.0027565997438477189),\n",
       " ('ImportantBenefits_Charitable match', 0.0027543583716312277),\n",
       " ('DeveloperType_Quality assurance engineer', 0.0027286985917438092),\n",
       " ('CompetePeers_Disagree', 0.0027253936298988249),\n",
       " ('HaveWorkedDatabase_SQL Server', 0.0027242346845180376),\n",
       " ('IDE_RStudio', 0.0027012963507027834),\n",
       " ('ExCoder10Years_Somewhat agree', 0.0026777325233176921),\n",
       " ('YearsCodedJobPast_8 to 9 years', 0.0026476352707470985),\n",
       " ('ChallengeMyself_Strongly agree', 0.0026424701477659796),\n",
       " ('YearsCodedJobPast_17 to 18 years', 0.0026159249294707191),\n",
       " ('WantWorkLanguage_Lua', 0.0026078060336507374),\n",
       " ('WantWorkPlatform_Windows Phone', 0.0025959784517899783),\n",
       " ('WorkPayCare_Strongly agree', 0.002595465453154846),\n",
       " ('ExCoderBelonged_Agree', 0.0025916862606315963),\n",
       " ('HaveWorkedDatabase_MongoDB', 0.0025713356026922161),\n",
       " ('ExCoderSkills_Strongly agree', 0.0025629869907091425),\n",
       " ('ExCoderBalance_Strongly agree', 0.0025313586767441534),\n",
       " ('WantWorkLanguage_Julia', 0.0025175438669922836),\n",
       " ('HaveWorkedPlatform_Raspberry Pi', 0.0025100061521931027),\n",
       " ('ExCoder10Years_Strongly disagree', 0.0025015584541563142),\n",
       " ('WorkPayCare_Somewhat agree', 0.0024991870271932151),\n",
       " ('WantWorkLanguage_Clojure', 0.0024843041984935221),\n",
       " ('CompanySize_20 to 99 employees', 0.002462125853476172),\n",
       " ('MajorUndergrad_A non-computer-focused engineering discipline',\n",
       "  0.0024520000105372006),\n",
       " ('HaveWorkedLanguage_Matlab', 0.0024491348646466333),\n",
       " ('ExCoderBalance_Strongly disagree', 0.0024417027484797001),\n",
       " ('AssessJobIndustry_Important', 0.0024363660605670641),\n",
       " ('LastNewJob_More than 4 years ago', 0.0024080206294906348),\n",
       " ('WantWorkPlatform_Mainframe', 0.0023767748183719261),\n",
       " ('WantWorkLanguage_Visual Basic 6', 0.0023759571342462072),\n",
       " ('CompanyType_Government agency or public school/university',\n",
       "  0.0023639222809882479),\n",
       " ('YearsCodedJobPast_15 to 16 years', 0.0023584125317357802),\n",
       " ('EducationTypes_Bootcamp', 0.0023498024484718679),\n",
       " ('CompanyType_Sole proprietorship or partnership, not in startup mode',\n",
       "  0.0023458640915304161),\n",
       " ('CompanySize_5,000 to 9,999 employees', 0.0023415316277280497),\n",
       " ('FriendsDevelopers_Strongly disagree', 0.0023360692750426233),\n",
       " ('ExCoderSkills_Agree', 0.0023259191644548986),\n",
       " ('ExCoderSkills_Strongly disagree', 0.0023213751073012344),\n",
       " ('CompanyType_State-owned company', 0.0023040084372863644),\n",
       " ('ImportantBenefits_Remote options', 0.0022953215797754081),\n",
       " ('YearsCodedJobPast_10 to 11 years', 0.0022920577350651044),\n",
       " ('WantWorkFramework_AngularJS', 0.0022794917485628985),\n",
       " ('CompanySize_I prefer not to answer', 0.0022697473852012935),\n",
       " ('ExCoderBelonged_Somewhat agree', 0.0022656026210682691),\n",
       " ('WantWorkLanguage_Elixir', 0.0022580654920705164),\n",
       " ('WantWorkDatabase_Redis', 0.0022563969917322796),\n",
       " ('KinshipDevelopers_Disagree', 0.0022355835752724397),\n",
       " ('ExCoderBalance_Somewhat agree', 0.0022145626284133684),\n",
       " ('ChangeWorld_Strongly disagree', 0.0022140522438574887),\n",
       " ('Professional_Professional developer', 0.0021902332435865769),\n",
       " ('WantWorkLanguage_C', 0.0021802132821062158),\n",
       " ('LastNewJob_Between 1 and 2 years ago', 0.0021789305338359433),\n",
       " ('WantWorkLanguage_Hack', 0.0021679843297994252),\n",
       " ('ExCoderActive_Strongly agree', 0.0021508257155264977),\n",
       " ('ImportantBenefits_Other', 0.0021423563701155578),\n",
       " ('HaveWorkedDatabase_Redis', 0.002136648658136093),\n",
       " ('ExCoderReturn_Disagree', 0.0021294421308727818),\n",
       " ('IDE_TextMate', 0.0021202271395248298),\n",
       " ('WantWorkLanguage_Scala', 0.0021192921507257527),\n",
       " ('JobProfile_LinkedIn', 0.0021041559888631571),\n",
       " ('MetricAssess_Release frequency', 0.0020744048408621535),\n",
       " ('WantWorkLanguage_C++', 0.0020734598313195901),\n",
       " ('AssessJobRole_Important', 0.0020675457324603789),\n",
       " (\"MetricAssess_Manager's rating\", 0.0020636410019135598),\n",
       " ('SelfTaughtTypes_Non-Stack online communities', 0.0020406443041107629),\n",
       " ('HaveWorkedLanguage_Groovy', 0.0020358939973657781),\n",
       " ('JobProfile_Indeed', 0.0020326414461961642),\n",
       " ('ChangeWorld_Strongly agree', 0.002025656694718477),\n",
       " ('LastNewJob_Not applicable/ never', 0.002021941258866023),\n",
       " ('InvestTimeTools_Disagree', 0.0020157697069446319),\n",
       " ('WantWorkLanguage_CoffeeScript', 0.0020064787913536991),\n",
       " ('Gender_Male', 0.0020038241826655359),\n",
       " ('KinshipDevelopers_Somewhat agree', 0.0019882930738811056),\n",
       " ('DiversityImportant_Strongly agree', 0.0019808549691155567),\n",
       " ('WantWorkLanguage_Swift', 0.0019689200748638377),\n",
       " ('HaveWorkedLanguage_Java', 0.0019667078901292648),\n",
       " ('Gender_Other', 0.0019626888669015525),\n",
       " ('WantWorkDatabase_Cassandra', 0.001957248868808271),\n",
       " ('Methodology_Extreme', 0.0019295377190614322),\n",
       " ('IDE_Emacs', 0.0019265023400489242),\n",
       " ('HaveWorkedFramework_React', 0.0019264154407871066),\n",
       " ('WebDeveloperType_Full stack Web developer', 0.0019199220086866362),\n",
       " ('AssessJobRole_Not very important', 0.0019173631824858039),\n",
       " ('WantWorkLanguage_Go', 0.0019139903341276673),\n",
       " ('ExCoderSkills_Disagree', 0.0019120982836062714),\n",
       " ('HaveWorkedLanguage_Smalltalk', 0.0019099026847058096),\n",
       " ('WantWorkPlatform_Raspberry Pi', 0.0019063983164351284),\n",
       " ('WantWorkFramework_Xamarin', 0.0018962581169871093),\n",
       " ('WantWorkLanguage_Groovy', 0.0018645292156295621),\n",
       " ('CompanyType_Pre-series A startup', 0.0018635506213476286),\n",
       " ('WorkPayCare_Disagree', 0.0018472778695647295),\n",
       " (\"MetricAssess_Peers' rating\", 0.0018273929803565331),\n",
       " ('DiversityImportant_Agree', 0.0018254504930412586),\n",
       " ('IDE_IntelliJ', 0.0018108173665453665),\n",
       " ('DeveloperType_Mobile developer', 0.0018048481971272871),\n",
       " ('WantWorkDatabase_MySQL', 0.0017682071147029355),\n",
       " ('ImportantBenefits_Meals', 0.0017616004580403336),\n",
       " ('HaveWorkedPlatform_SharePoint', 0.0017315111452390719),\n",
       " ('HaveWorkedDatabase_Oracle', 0.0017193852451968181),\n",
       " ('JobProfile_StepStone', 0.0016962769200692947),\n",
       " ('JobSecurity_Disagree', 0.0016849902132341614),\n",
       " ('YearsCodedJobPast_18 to 19 years', 0.0016738109680025225),\n",
       " ('CompetePeers_Strongly disagree', 0.0016639427871612854),\n",
       " ('CompetePeers_Somewhat agree', 0.0016593624060334874),\n",
       " ('WantWorkDatabase_SQL Server', 0.0016525119484614816),\n",
       " ('HaveWorkedLanguage_VBA', 0.0016430206229785017),\n",
       " ('WantWorkLanguage_SQL', 0.0016381804090816045),\n",
       " ('HomeRemote_Less than half the time, but at least one day each week',\n",
       "  0.001634635122326938),\n",
       " ('Professional_Student', 0.0016243974417580996),\n",
       " ('JobProfile_Workopolis', 0.0016173421395975691),\n",
       " ('Methodology_Agile', 0.0016108019045437947),\n",
       " ('Methodology_Mob', 0.00158776310383975),\n",
       " ('Race_counts', 0.0015700331707130023),\n",
       " ('HaveWorkedPlatform_Microsoft Azure', 0.0015639098960935963),\n",
       " ('ImportantBenefits_Long-term leave', 0.0015563783469388869),\n",
       " ('WantWorkPlatform_Windows Desktop', 0.0015508462206941197),\n",
       " ('WantWorkLanguage_Perl', 0.0015490520949388918),\n",
       " ('HaveWorkedLanguage_Hack', 0.0015470461132836236),\n",
       " ('YearsCodedJobPast_3 to 4 years', 0.0015420296451363867),\n",
       " ('JobProfile_Glassdoor', 0.0015385990124449471),\n",
       " ('BoringDetails_Strongly disagree', 0.00150827778128069),\n",
       " ('HaveWorkedFramework_Xamarin', 0.0014853687410959205),\n",
       " ('MobileDeveloperType_iOS', 0.0014843048657011281),\n",
       " ('DiversityImportant_Somewhat agree', 0.001481010140395451),\n",
       " ('WantWorkLanguage_Python', 0.0014800737525823013),\n",
       " ('YearsCodedJobPast_9 to 10 years', 0.0014729522971516859),\n",
       " ('HaveWorkedPlatform_Linux Desktop', 0.0014653648594768658),\n",
       " ('HaveWorkedLanguage_C#', 0.0014620674612741331),\n",
       " ('WantWorkLanguage_JavaScript', 0.00144394975486896),\n",
       " ('MetricAssess_Lines of code', 0.0014410661468397311),\n",
       " ('WantWorkPlatform_WordPress', 0.0014266732368441301),\n",
       " ('WantWorkFramework_Cordova', 0.0014175280592725204),\n",
       " ('KinshipDevelopers_Strongly disagree', 0.0014152789734612052),\n",
       " ('EducationTypes_Hackathon', 0.0014074620259823176),\n",
       " ('ImportantBenefits_Expected work hours', 0.0013991147071137245),\n",
       " ('JobProfile_Total_Jobs', 0.0013741845825080408),\n",
       " ('WantWorkLanguage_Matlab', 0.0013729501049590423),\n",
       " ('MetricAssess_counts', 0.0013661972388989045),\n",
       " ('AssessJobExp_Not very important', 0.001364140360339387),\n",
       " ('ImportantBenefits_Health benefits', 0.0013387073873001106),\n",
       " ('DeveloperType_Desktop applications developer', 0.0013361045436086447),\n",
       " ('WantWorkPlatform_Salesforce', 0.0013192601082331458),\n",
       " ('LastNewJob_Less than a year ago', 0.0013186244752431608),\n",
       " ('WantWorkFramework_Hadoop', 0.0013160614279225016),\n",
       " ('DiversityImportant_Strongly disagree', 0.0013001068598804285),\n",
       " ('WantWorkLanguage_Erlang', 0.0012909623262213061),\n",
       " ('Race_Middle Eastern', 0.0012871655842354745),\n",
       " ('ExCoder10Years_Strongly agree', 0.0012849565711904704),\n",
       " ('WantWorkLanguage_Common Lisp', 0.0012721695208121173),\n",
       " ('DeveloperType_Web developer', 0.0012536300824194703),\n",
       " ('JobProfile_Xing', 0.0012454695638173374),\n",
       " ('ExCoderWillNotCode_Strongly agree', 0.0012367800411680462),\n",
       " ('HaveWorkedFramework_Firebase', 0.0012299329235327847),\n",
       " ('WorkPayCare_Agree', 0.0012256975808663253),\n",
       " ('CompanyType_Venture-funded startup', 0.001212778482652455),\n",
       " ('HaveWorkedLanguage_VB.NET', 0.0011991623491459983),\n",
       " ('ExCoderNotForMe_Strongly disagree', 0.0011948545702425901),\n",
       " ('Methodology_Kanban', 0.0011818970432594927),\n",
       " ('DeveloperType_Graphic designer', 0.0011685980876325003),\n",
       " ('ExCoderNotForMe_Agree', 0.0011399752488969012),\n",
       " ('KinshipDevelopers_Agree', 0.0011392000490459317),\n",
       " ('Professional_Used to be a professional developer', 0.0011285312215226851),\n",
       " ('StackOverflowDevices_counts', 0.0011186530870653641),\n",
       " ('WantWorkFramework_React', 0.0010816545660530888),\n",
       " ('ImportantBenefits_Vacation/days off', 0.0010776400103741216),\n",
       " ('BuildingThings_Agree', 0.0010710886361237505),\n",
       " ('HaveWorkedFramework_Cordova', 0.0010621735967674651),\n",
       " ('ImportantBenefits_Child/elder care', 0.0010556366031893086),\n",
       " ('ChallengeMyself_Disagree', 0.0010272675007995604),\n",
       " ('HaveWorkedLanguage_C++', 0.0010270646935141485),\n",
       " ('WantWorkLanguage_F#', 0.0010254017733561033),\n",
       " ('Gender_Gender non-conforming', 0.0010080488908270273),\n",
       " ('JobProfile_JobSite.co.uk', 0.0010070731933664351),\n",
       " ('WantWorkPlatform_SharePoint', 0.0010063558327627104),\n",
       " ('ExCoderReturn_Strongly agree', 0.0010049855036893284),\n",
       " ('JobSeekingStatus_I am not interested in new job opportunities',\n",
       "  0.0010027035567235327),\n",
       " ('WantWorkLanguage_Rust', 0.0010001187283953006),\n",
       " ('YearsCodedJobPast_19 to 20 years', 0.00099816232180894833),\n",
       " ('WantWorkPlatform_Amazon Web Services (AWS)', 0.00099198228089865566),\n",
       " ('WantWorkLanguage_C#', 0.00098171776424359008),\n",
       " ('ExCoder10Years_Agree', 0.00098167147096983078),\n",
       " ('NonDeveloperType_Analyst or consultant', 0.00097716386824654657),\n",
       " ('WantWorkLanguage_Smalltalk', 0.00097660414687225942),\n",
       " ('HaveWorkedDatabase_SQLite', 0.00096198664711066081),\n",
       " ('IDE_PHPStorm', 0.00096078446195585877),\n",
       " ('MetricAssess_On time/in budget', 0.00095620383388284513),\n",
       " ('HomeRemote_About half the time', 0.00095439780341910799),\n",
       " ('SeriousWork_Disagree', 0.00095254872777429894),\n",
       " ('YearsCodedJobPast_7 to 8 years', 0.00093300866334366248),\n",
       " ('NonDeveloperType_Marketing or sales manager', 0.00092759508188095235),\n",
       " ('YearsCodedJobPast_1 to 2 years', 0.00092371577757344636),\n",
       " ('CompanySize_10 to 19 employees', 0.00092069269718052119),\n",
       " ('WantWorkLanguage_VBA', 0.00091723538646884659),\n",
       " ('AssessJobIndustry_Not at all important', 0.00088633091953328595),\n",
       " ('ExCoderWillNotCode_Strongly disagree', 0.0008837004940933891),\n",
       " ('Professional_None of these', 0.00088307053974706043),\n",
       " ('ExCoder10Years_Disagree', 0.00087842216327136476),\n",
       " ('ExCoderActive_Strongly disagree', 0.00086466038836318672),\n",
       " ('WantWorkLanguage_Ruby', 0.00086106157506642188),\n",
       " ('SelfTaughtTypes_Tutoring/mentoring', 0.00085051220578534112),\n",
       " ('EducationTypes_Open source contributions', 0.0008405347773639204),\n",
       " ('UnderstandComputers_Somewhat agree', 0.00084033607373709175),\n",
       " ('WebDeveloperType_Back-end Web developer', 0.00084019284761911131),\n",
       " ('Professional_Professional non-developer who sometimes writes code',\n",
       "  0.00083848185501229368),\n",
       " ('MajorUndergrad_A humanities discipline', 0.00083560918936870677),\n",
       " ('InvestTimeTools_Agree', 0.0008188510035071323),\n",
       " ('IDE_Xcode', 0.00081736467821542523),\n",
       " ('WantWorkPlatform_Android', 0.00080344977252132309),\n",
       " ('DiversityImportant_Disagree', 0.00080236576391875148),\n",
       " ('ExCoderWillNotCode_Somewhat agree', 0.0008003128802789016),\n",
       " ('HaveWorkedPlatform_Salesforce', 0.00079617073354967187),\n",
       " ('WantWorkDatabase_PostgreSQL', 0.00079444487080086495),\n",
       " ('SelfTaughtTypes_Friends network', 0.00077594527705443191),\n",
       " ('WantWorkDatabase_Oracle', 0.00077281470774753585),\n",
       " ('HaveWorkedLanguage_C', 0.00075913747317829083),\n",
       " ('IDE_Visual Studio Code', 0.00074901623435872039),\n",
       " ('HaveWorkedLanguage_Perl', 0.0007485502336920483),\n",
       " ('HaveWorkedFramework_AngularJS', 0.00073683920032489728),\n",
       " ('Gender_Transgender', 0.00073645513750121832),\n",
       " ('CompetePeers_Agree', 0.00073600144303275709),\n",
       " ('ExCoderActive_Somewhat agree', 0.00073592118585312819),\n",
       " ('DeveloperType_Graphics programming', 0.00072896764022221114),\n",
       " ('MajorUndergrad_Management information systems', 0.00072864065261971892),\n",
       " ('WantWorkDatabase_MongoDB', 0.00072543363551212084),\n",
       " ('HaveWorkedFramework_Spark', 0.00071058320008148207),\n",
       " ('MajorUndergrad_A natural science', 0.00070684277817332033),\n",
       " ('DeveloperType_counts', 0.00069403162744220443),\n",
       " ('MetricAssess_Hours worked', 0.0006933906017385327),\n",
       " ('HaveWorkedLanguage_Python', 0.00067994949041320484),\n",
       " ('CompanySize_100 to 499 employees', 0.00067575273775866682),\n",
       " ('Race_Black or of African descent', 0.00067079644796103532),\n",
       " ('InvestTimeTools_Somewhat agree', 0.00066867780241647735),\n",
       " ('WantWorkLanguage_R', 0.00066804790854635746),\n",
       " ('DeveloperType_Systems administrator', 0.0006668452789951499),\n",
       " ('IDE_RubyMine', 0.00065683933345872601),\n",
       " ('SeriousWork_Somewhat agree', 0.00065373016470307674),\n",
       " ('MetricAssess_Other', 0.00064179070041849376),\n",
       " ('MajorUndergrad_Computer programming or Web development',\n",
       "  0.00063669154174449095),\n",
       " ('DeveloperType_Data scientist', 0.00062932896700829599),\n",
       " ('Gender_counts', 0.00062765513015838805),\n",
       " ('Methodology_PRINCE2', 0.00062267561745225897),\n",
       " ('WantWorkLanguage_Java', 0.00061723633641339471),\n",
       " ('RightWrongWay_Disagree', 0.00061162214715802191),\n",
       " ('NonDeveloperType_Designer or illustrator', 0.00060474336423863831),\n",
       " ('Methodology_Scrum', 0.00058909400802915836),\n",
       " ('CousinEducation_Get a job as a QA tester', 0.00058443639194908953),\n",
       " ('WantWorkPlatform_Mac OS', 0.00058224892651703546),\n",
       " ('ExCoderReturn_Agree', 0.00057706764213605755),\n",
       " ('ExCoderActive_Agree', 0.00057290121252258157),\n",
       " ('Race_Hispanic or Latino/Latina', 0.00056876565830094939),\n",
       " ('JobProfile_Hired.com', 0.00056633395474821725),\n",
       " ('WantWorkFramework_Node.js', 0.0005583107311107401),\n",
       " (\"CompanySize_I don't know\", 0.00055738637375257489),\n",
       " ('YearsCodedJobPast_14 to 15 years', 0.00055360927535018606),\n",
       " ('SelfTaughtTypes_Company internal community', 0.00055123512170730479),\n",
       " ('SelfTaughtTypes_Trade book', 0.00054608065477998523),\n",
       " ('WorkPayCare_Strongly disagree', 0.00054262162579131836),\n",
       " ('WantWorkLanguage_PHP', 0.00052740511068714207),\n",
       " ('IDE_Notepad++', 0.00052673896171450253),\n",
       " ('CompanySize_1,000 to 4,999 employees', 0.00052223291482880339),\n",
       " ('CousinEducation_Participate in online coding competitions',\n",
       "  0.00052196305544679902),\n",
       " ('HaveWorkedPlatform_Windows Phone', 0.00052159396317042535),\n",
       " ('WantWorkLanguage_TypeScript', 0.00051748187992647877),\n",
       " ('HaveWorkedLanguage_Haskell', 0.00051469985724213998),\n",
       " ('StackOverflowDevices_Android app', 0.00051220405615538844),\n",
       " ('CompanyType_Non-profit/non-governmental organization or private school/university',\n",
       "  0.00050957845631057668),\n",
       " ('AssessJobIndustry_Very important', 0.00050352205569087743),\n",
       " ('IDE_Zend', 0.00050119667835552863),\n",
       " ('AssessJobIndustry_Not very important', 0.0004992860743656568),\n",
       " ('MetricAssess_Bugs found', 0.00049807010566971374),\n",
       " ('ImportantBenefits_Annual bonus', 0.00049494512530672604),\n",
       " ('ChallengeMyself_Strongly disagree', 0.00049452740611843785),\n",
       " ('DeveloperType_DevOps specialist', 0.00048697206935717968),\n",
       " ('IDE_Sublime Text', 0.00048378676325143237),\n",
       " ('AssessJobRole_Not at all important', 0.00048114370094413098),\n",
       " ('RightWrongWay_Somewhat agree', 0.00047025336077742379),\n",
       " ('WantWorkLanguage_Dart', 0.00045512757011766374),\n",
       " ('Methodology_counts', 0.00045394191680411821),\n",
       " ('CousinEducation_Bootcamp', 0.00044738607486244315),\n",
       " ('HaveWorkedPlatform_Android', 0.00044669254081307862),\n",
       " ('BoringDetails_Strongly agree', 0.00043955392871590965),\n",
       " ('InvestTimeTools_Strongly disagree', 0.00040752540323058033),\n",
       " ('LastNewJob_Between 2 and 4 years ago', 0.00040308265705069052),\n",
       " ('NonDeveloperType_C-suite executive', 0.00039911016126865879),\n",
       " ('NonDeveloperType_Product manager', 0.00039879961851771326),\n",
       " ('UnderstandComputers_Strongly agree', 0.00039428067332352638),\n",
       " ('WantWorkFramework_Firebase', 0.00039051148784149963),\n",
       " ('ChangeWorld_Somewhat agree', 0.00038632264611940324),\n",
       " ('StackOverflowDevices_Desktop', 0.00038355751798034831),\n",
       " ('EducationTypes_Coding competition', 0.0003796082343892016),\n",
       " ('AssessJobExp_Not at all important', 0.00037817129548796548),\n",
       " ('HaveWorkedLanguage_Objective-C', 0.00037319999210682378),\n",
       " ('HaveWorkedLanguage_Go', 0.00036514141210672313),\n",
       " ('ChangeWorld_Agree', 0.00036249514923025039),\n",
       " ('ProblemSolving_Strongly disagree', 0.00035828251637090586),\n",
       " ('MetricAssess_Revenue performance', 0.00034484604357928341),\n",
       " (\"CompanyType_I don't know\", 0.00034194067772655131),\n",
       " ('HaveWorkedLanguage_CoffeeScript', 0.00033287108878928906),\n",
       " ('HaveWorkedLanguage_Elixir', 0.00033110156906336987),\n",
       " ('ImportantBenefits_Private office', 0.00032991788219175979),\n",
       " ('IDE_Visual Studio', 0.00032463265422821548),\n",
       " ('IDE_Coda', 0.00032161912339571784),\n",
       " ('JobProfile_Other', 0.0003174653363719732),\n",
       " ('JobProfile_Monster', 0.00031433886345604906),\n",
       " ('CousinEducation_Return to college', 0.00031042383712055559),\n",
       " ('HaveWorkedLanguage_Julia', 0.00030727662096366286),\n",
       " ('AnnoyingUI_Disagree', 0.0003059977578368875),\n",
       " ('HaveWorkedLanguage_Dart', 0.00029987655791355425),\n",
       " ('DeveloperType_Database administrator', 0.00029561514985146359),\n",
       " ('MobileDeveloperType_Android', 0.00029036694420655096),\n",
       " ('RightWrongWay_Agree', 0.00028859760726590762),\n",
       " ('Race_Native American, Pacific Islander, or Indigenous Australian',\n",
       "  0.00028795138529898884),\n",
       " ('YearsCodedJobPast_20 or more years', 0.00028090113984095025),\n",
       " ('HaveWorkedDatabase_PostgreSQL', 0.00028016292711124458),\n",
       " ('CousinEducation_None of these', 0.00027957190866214281),\n",
       " ('HaveWorkedLanguage_R', 0.00027037505561847938),\n",
       " ('HaveWorkedPlatform_Mac OS', 0.00026716800255575669),\n",
       " ('CompanySize_500 to 999 employees', 0.00026658786992584646),\n",
       " ('WantWorkLanguage_Objective-C', 0.00026214288093818041),\n",
       " ('ChallengeMyself_Agree', 0.00025808100539021314),\n",
       " ('SeriousWork_Strongly disagree', 0.00024830029614006941),\n",
       " ('EducationTypes_On-the-job training', 0.00024314128933830274),\n",
       " ('HaveWorkedLanguage_Ruby', 0.00024295411346422893),\n",
       " ('HaveWorkedLanguage_JavaScript', 0.00024165584856960224),\n",
       " ('LearningNewTech_Agree', 0.00023958703396009137),\n",
       " ('AssessJobRole_Very important', 0.00023790944832964922),\n",
       " ('Race_I don’t know', 0.00022821802280275041),\n",
       " ('HaveWorkedFramework_.NET Core', 0.00021661161957802264),\n",
       " ('DeveloperType_Other', 0.00021535393777281862),\n",
       " ('Race_East Asian', 0.00021184251771153365),\n",
       " ('WantWorkLanguage_Haskell', 0.00021055206641517289),\n",
       " ('StackOverflowDevices_iOS browser', 0.00020920465810792444),\n",
       " ('ExCoderBelonged_Disagree', 0.0002058401363517029),\n",
       " ('CousinEducation_Take online courses', 0.00020520058162720948),\n",
       " ('WantWorkPlatform_Microsoft Azure', 0.00020259805166274086),\n",
       " ('IDE_counts', 0.00020058401405408633),\n",
       " ('MetricAssess_Customer satisfaction', 0.00019905061233086948),\n",
       " ('HaveWorkedLanguage_Assembly', 0.00019837424003340008),\n",
       " ('SelfTaughtTypes_Official documentation', 0.00019778465846170617),\n",
       " ('HaveWorkedLanguage_Clojure', 0.00019590054516355614),\n",
       " ('HaveWorkedLanguage_SQL', 0.00019137417579199477),\n",
       " ('HaveWorkedLanguage_Swift', 0.00019122065772701001),\n",
       " ('Gender_Female', 0.00019006280850100373),\n",
       " ('JobSecurity_Agree', 0.00018921803978870209),\n",
       " ('ExCoderActive_Disagree', 0.00018890868563488749),\n",
       " ('UnderstandComputers_Agree', 0.00015775882636771786),\n",
       " ('CompanyType_Publicly-traded corporation', 0.00015653275351009961),\n",
       " ('ExCoderNotForMe_Strongly agree', 0.00015617511710411635),\n",
       " ('JobProfile_Naukri', 0.00015590352043054627),\n",
       " ('WantWorkLanguage_VB.NET', 0.00015459001652123528),\n",
       " ('AssessJobRole_Somewhat important', 0.00015325238572947426),\n",
       " ('LearningNewTech_Disagree', 0.00014836751922746685),\n",
       " ('ExCoderNotForMe_Disagree', 0.00013993765250909252),\n",
       " ('NonDeveloperType_Educator or academic', 0.00013867948735971173),\n",
       " ('HaveWorkedDatabase_Cassandra', 0.00013522635488836488),\n",
       " ('SelfTaughtTypes_Built-in help', 0.00013334729759494963),\n",
       " ('RightWrongWay_Strongly disagree', 0.000131162364803611),\n",
       " ('IDE_Light Table', 0.00012927847795433131),\n",
       " ('HaveWorkedFramework_Node.js', 0.00012130615126123901),\n",
       " ('EducationTypes_Self-taught', 0.00012110584147523452),\n",
       " ('UnderstandComputers_Strongly disagree', 0.00011821474552148953),\n",
       " ('HaveWorkedLanguage_PHP', 0.00010954493177123688),\n",
       " ('JobSeekingStatus_I am actively looking for a job', 0.00010800992741722464),\n",
       " ('HaveWorkedDatabase_MySQL', 0.00010444526923857789),\n",
       " ('WantWorkFramework_Spark', 0.00010253045254171543),\n",
       " ('SeriousWork_Strongly agree', 0.00010039797514096833),\n",
       " ('HaveWorkedPlatform_WordPress', 9.7839277706833749e-05),\n",
       " ('NonDeveloperType_counts', 9.5927328057434819e-05),\n",
       " ('MajorUndergrad_Information technology, networking, or system administration',\n",
       "  9.3059285827486508e-05),\n",
       " ('WantWorkDatabase_SQLite', 8.657600263745817e-05),\n",
       " ('HomeRemote_A few days each month', 8.5288948835821423e-05),\n",
       " ('LearningNewTech_Strongly disagree', 8.3284421932460593e-05),\n",
       " ('Race_I prefer not to say', 7.9170843915473706e-05),\n",
       " ('AssessJobExp_Important', 7.913443873299437e-05),\n",
       " ('EducationTypes_Part-time/evening course', 7.8959732731411625e-05),\n",
       " ('ProblemSolving_Agree', 7.8812748037197577e-05),\n",
       " (\"HomeRemote_It's complicated\", 7.6575415331892581e-05),\n",
       " ('YearsCodedJobPast_Less than a year', 7.6255214764010687e-05),\n",
       " ('AnnoyingUI_Strongly agree', 7.622155715927564e-05),\n",
       " ('ProblemSolving_Somewhat agree', 7.5797836870715297e-05),\n",
       " ('HaveWorkedLanguage_Lua', 7.0680355931445552e-05),\n",
       " ('HaveWorkedLanguage_F#', 6.9542004542545708e-05),\n",
       " ('BoringDetails_Agree', 6.9193649625042913e-05),\n",
       " ('IDE_Android Studio', 6.8748725020532678e-05),\n",
       " ('FriendsDevelopers_Somewhat agree', 6.8454122653665808e-05),\n",
       " ('AnnoyingUI_Strongly disagree', 6.5245738449463731e-05),\n",
       " ('HaveWorkedFramework_Hadoop', 6.270315359359284e-05),\n",
       " ('HaveWorkedLanguage_TypeScript', 6.1183338764488168e-05),\n",
       " ('SelfTaughtTypes_Stack Overflow Q&A', 6.0357461580517608e-05),\n",
       " ('FormalEducation_I never completed any formal education',\n",
       "  5.9421807844704759e-05),\n",
       " (\"FormalEducation_Master's degree\", 5.7838623095256338e-05),\n",
       " ('StackOverflowDevices_iOS app', 5.4456614416571618e-05),\n",
       " ('FormalEducation_Doctoral degree', 5.263745403528971e-05),\n",
       " ('IDE_IPython / Jupyter', 5.1424759954771422e-05),\n",
       " ('SelfTaughtTypes_Textbook', 4.9952683517164477e-05),\n",
       " ('HaveWorkedLanguage_Scala', 4.9789245239806219e-05),\n",
       " ('ExCoderBalance_Disagree', 4.9372408074714937e-05),\n",
       " ('MajorUndergrad_Fine arts or performing arts', 4.8503657388490228e-05),\n",
       " ('CousinEducation_Part-time/evening courses', 4.6720531619126799e-05),\n",
       " ('DeveloperType_Embedded applications/devices developer',\n",
       "  4.4870376223135906e-05),\n",
       " ('CousinEducation_Other', 4.3949048341257018e-05),\n",
       " ('AnnoyingUI_Somewhat agree', 4.1259969102738649e-05),\n",
       " ('MajorUndergrad_Computer engineering or electrical/electronics engineering',\n",
       "  3.9132736903968026e-05),\n",
       " ('LearningNewTech_Somewhat agree', 3.6388046465092595e-05),\n",
       " ('HaveWorkedPlatform_iOS', 3.5391569236079098e-05),\n",
       " ('HaveWorkedPlatform_Amazon Web Services (AWS)', 3.2913088378806906e-05),\n",
       " ('FriendsDevelopers_Disagree', 3.0074652940345055e-05),\n",
       " ('BoringDetails_Somewhat agree', 3.0039054106931868e-05),\n",
       " ('University_No', 2.9362726361879665e-05),\n",
       " ('BuildingThings_Strongly agree', 2.7857901071260363e-05),\n",
       " ('LearningNewTech_Strongly agree', 2.6425618182166808e-05),\n",
       " ('FriendsDevelopers_Strongly agree', 2.3969856496780004e-05),\n",
       " ('YearsCodedJobPast_5 to 6 years', 2.3536906954654566e-05),\n",
       " ('NonDeveloperType_Elected official', 2.0840902561035845e-05),\n",
       " ('HaveWorkedPlatform_Mainframe', 2.0701866857285223e-05),\n",
       " ('MajorUndergrad_A health science', 1.9531207297732097e-05),\n",
       " ('MajorUndergrad_Psychology', 1.8971025674907294e-05),\n",
       " ('MajorUndergrad_A business discipline', 1.8581033182392642e-05),\n",
       " ('SeriousWork_Agree', 1.7766703533637264e-05),\n",
       " ('BuildingThings_Strongly disagree', 1.6994537560857444e-05),\n",
       " ('FriendsDevelopers_Agree', 1.6022547760287513e-05),\n",
       " ('University_Yes, full-time', 1.580268517230441e-05),\n",
       " ('EmploymentStatus_I prefer not to say', 1.3032966967768474e-05),\n",
       " ('EducationTypes_Industry certification', 1.2557876557482152e-05),\n",
       " ('FormalEducation_Secondary school', 1.2415115506946825e-05),\n",
       " ('CousinEducation_Buy books and work through the exercises',\n",
       "  1.1791367758045289e-05),\n",
       " ('HaveWorkedPlatform_Serverless', 8.6207589666617082e-06),\n",
       " ('ProblemSolving_Disagree', 6.2222691247600121e-06),\n",
       " ('EmploymentStatus_Employed part-time', 4.3683549959557487e-06),\n",
       " ('University_Yes, part-time', 4.0459266265821051e-06),\n",
       " ('FormalEducation_I prefer not to answer', 3.3740827936069078e-06),\n",
       " ('NonDeveloperType_Data scientist', 0.0),\n",
       " ('NonDeveloperType_Other', 0.0),\n",
       " ('CousinEducation_Participate in hackathons', 0.0),\n",
       " ('EmploymentStatus_Employed full-time', 0.0),\n",
       " ('EmploymentStatus_Independent contractor, freelancer, or self-employed',\n",
       "  0.0),\n",
       " ('EmploymentStatus_Not employed, and not looking for work', 0.0),\n",
       " ('EmploymentStatus_Not employed, but looking for work', 0.0),\n",
       " ('EmploymentStatus_Retired', 0.0),\n",
       " (\"FormalEducation_Bachelor's degree\", 0.0),\n",
       " ('FormalEducation_Primary/elementary school', 0.0),\n",
       " ('FormalEducation_Professional degree', 0.0),\n",
       " (\"FormalEducation_Some college/university study without earning a bachelor's degree\",\n",
       "  0.0),\n",
       " ('AnnoyingUI_Agree', 0.0)]"
      ]
     },
     "execution_count": 18,
     "metadata": {},
     "output_type": "execute_result"
    }
   ],
   "source": [
    "rf.fit(X_imputed_scaled, y_le)\n",
    "impt = list(zip(data_clean.columns, rf.feature_importances_))\n",
    "sorted(impt,key = lambda item: item[1], reverse=True)"
   ]
  }
 ],
 "metadata": {
  "kernelspec": {
   "display_name": "Python 3",
   "language": "python",
   "name": "python3"
  },
  "language_info": {
   "codemirror_mode": {
    "name": "ipython",
    "version": 3
   },
   "file_extension": ".py",
   "mimetype": "text/x-python",
   "name": "python",
   "nbconvert_exporter": "python",
   "pygments_lexer": "ipython3",
   "version": "3.6.1"
  }
 },
 "nbformat": 4,
 "nbformat_minor": 2
}
