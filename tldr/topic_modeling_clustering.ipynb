{
 "cells": [
  {
   "cell_type": "code",
   "execution_count": 1,
   "metadata": {
    "collapsed": true
   },
   "outputs": [],
   "source": [
    "import os\n",
    "import re\n",
    "import numpy as np\n",
    "import pandas as pd\n",
    "import matplotlib.pyplot as plt\n",
    "import random\n",
    "import pickle\n",
    "import string\n",
    "import spacy\n",
    "\n",
    "from sklearn.feature_extraction.text import CountVectorizer\n",
    "from sklearn.decomposition import LatentDirichletAllocation\n",
    "from sklearn.cluster import KMeans\n",
    "from sklearn.metrics import silhouette_score\n",
    "\n",
    "from nltk.corpus import stopwords\n",
    "\n",
    "%matplotlib inline"
   ]
  },
  {
   "cell_type": "code",
   "execution_count": 2,
   "metadata": {
    "collapsed": true
   },
   "outputs": [],
   "source": [
    "nlp = spacy.load('en')"
   ]
  },
  {
   "cell_type": "code",
   "execution_count": 3,
   "metadata": {},
   "outputs": [
    {
     "data": {
      "text/plain": [
       "251328"
      ]
     },
     "execution_count": 3,
     "metadata": {},
     "output_type": "execute_result"
    }
   ],
   "source": [
    "cleaned_articles_dict = pickle.load(open(\"cleaned_articles_dict.pkl\", \"rb\"))\n",
    "len(cleaned_articles_dict)"
   ]
  },
  {
   "cell_type": "code",
   "execution_count": 4,
   "metadata": {},
   "outputs": [],
   "source": [
    "# extract only articles\n",
    "articles = [article[\"article\"] for article in cleaned_articles_dict]"
   ]
  },
  {
   "cell_type": "code",
   "execution_count": 5,
   "metadata": {
    "collapsed": true
   },
   "outputs": [],
   "source": [
    "def run_lemma(article):\n",
    "    \"\"\"\n",
    "    Lemmatize article.\n",
    "    article should be a single string of text\n",
    "    \"\"\"\n",
    "    remain = ''\n",
    "    doc = nlp(article.lower())\n",
    "    for token in doc:\n",
    "        if token.is_stop:\n",
    "            continue\n",
    "        elif token.is_space:\n",
    "            continue\n",
    "        elif len(token)<=1:\n",
    "            continue\n",
    "        elif str(token) == \"cnn\":\n",
    "            continue\n",
    "        else:\n",
    "            remain += token.lemma_ + ' '\n",
    "    return remain"
   ]
  },
  {
   "cell_type": "code",
   "execution_count": null,
   "metadata": {},
   "outputs": [],
   "source": [
    "# lemmatize articles\n",
    "clean_articles = [run_lemma(article) for article in articles]\n",
    "len(clean_articles)"
   ]
  },
  {
   "cell_type": "code",
   "execution_count": 58,
   "metadata": {
    "collapsed": true
   },
   "outputs": [],
   "source": [
    "# pickle for future use\n",
    "pickle.dump(clean_articles,open(\"articles_lemma_lda.pkl\",\"wb\"))"
   ]
  },
  {
   "cell_type": "code",
   "execution_count": 7,
   "metadata": {},
   "outputs": [
    {
     "data": {
      "text/plain": [
       "251328"
      ]
     },
     "execution_count": 7,
     "metadata": {},
     "output_type": "execute_result"
    }
   ],
   "source": [
    "cleaned_articles = pickle.load(open(\"articles_lemma_lda.pkl\", \"rb\"))\n",
    "len(cleaned_articles)"
   ]
  },
  {
   "cell_type": "code",
   "execution_count": 8,
   "metadata": {
    "collapsed": true
   },
   "outputs": [],
   "source": [
    "# remove irrelevant terms\n",
    "recleaned_articles = [re.sub(\"say\", \"\", article).strip() for article in cleaned_articles]\n",
    "recleaned_articles = [re.sub(\"year\", \"\", article).strip() for article in recleaned_articles]\n",
    "recleaned_articles = [re.sub(\"time\", \"\", article).strip() for article in recleaned_articles]\n",
    "recleaned_articles = [re.sub(\"EST\", \"\", article).strip() for article in recleaned_articles]\n",
    "recleaned_articles = [re.sub(\"est\", \"\", article).strip() for article in recleaned_articles]\n",
    "recleaned_articles = [re.sub(\"[Dd]aily [Mm]ail\", \"\", article).strip() for article in recleaned_articles]"
   ]
  },
  {
   "cell_type": "markdown",
   "metadata": {},
   "source": [
    "### Topic Modeling"
   ]
  },
  {
   "cell_type": "code",
   "execution_count": 9,
   "metadata": {},
   "outputs": [
    {
     "data": {
      "text/plain": [
       "37980"
      ]
     },
     "execution_count": 9,
     "metadata": {},
     "output_type": "execute_result"
    }
   ],
   "source": [
    "# vectorize cleaned articles\n",
    "cv = CountVectorizer(min_df=20)\n",
    "X_articles = cv.fit_transform(recleaned_articles)\n",
    "word_list = cv.get_feature_names()\n",
    "len(word_list)"
   ]
  },
  {
   "cell_type": "code",
   "execution_count": 10,
   "metadata": {},
   "outputs": [
    {
     "name": "stdout",
     "output_type": "stream",
     "text": [
      "[[ 0.05        0.05        0.05       ...,  0.05        0.05        0.05      ]\n",
      " [ 0.05        0.05        0.05       ...,  0.05        0.05        0.05      ]\n",
      " [ 0.05000002  0.05        0.05       ...,  0.05        0.05        0.05      ]\n",
      " ..., \n",
      " [ 0.05        0.05000001  0.05       ...,  0.05        0.05        0.05      ]\n",
      " [ 0.05        0.05        0.05       ...,  0.05        0.05        0.05      ]\n",
      " [ 0.05        0.05000001  0.05       ...,  0.05        0.05        0.05      ]]\n"
     ]
    }
   ],
   "source": [
    "# identify latent topics using latent Dirichlet allocation (LDA)\n",
    "lda = LatentDirichletAllocation(n_components=20, max_iter=15, learning_method='online', learning_offset=50.,random_state=916)\n",
    "X_reduced = lda.fit_transform(X_articles)\n",
    "components = lda.components_\n",
    "print(lda.components_)"
   ]
  },
  {
   "cell_type": "code",
   "execution_count": 11,
   "metadata": {},
   "outputs": [
    {
     "data": {
      "text/plain": [
       "(251328, 20)"
      ]
     },
     "execution_count": 11,
     "metadata": {},
     "output_type": "execute_result"
    }
   ],
   "source": [
    "X_reduced.shape"
   ]
  },
  {
   "cell_type": "code",
   "execution_count": 12,
   "metadata": {},
   "outputs": [
    {
     "data": {
      "text/plain": [
       "(20, 37980)"
      ]
     },
     "execution_count": 12,
     "metadata": {},
     "output_type": "execute_result"
    }
   ],
   "source": [
    "components.shape"
   ]
  },
  {
   "cell_type": "code",
   "execution_count": 13,
   "metadata": {},
   "outputs": [
    {
     "name": "stdout",
     "output_type": "stream",
     "text": [
      "topic 0\n",
      "[('new', 31440.425513934399), ('video', 23059.799617243836), ('look', 19991.99325787335), ('image', 19749.726874290027), ('like', 19317.39407629085), ('post', 18816.816812895217), ('picture', 18535.315717576024), ('facebook', 17948.862959994731), ('photo', 16245.063833528084), ('create', 15645.876016930346), ('work', 14713.031033668689), ('people', 14695.042932056491), ('design', 14445.37991069525), ('model', 14159.220806261454), ('user', 13910.143486594696), ('online', 13320.215319617228), ('world', 12765.084431320052), ('twitter', 12660.539567475615), ('scroll', 12607.408380911515), ('show', 12201.664472035944)] \n",
      "\n",
      "topic 1\n",
      "[('russian', 8730.0105678476193), ('russia', 6761.1630239901724), ('prot', 6479.7448348956432), ('people', 5987.6352581462179), ('city', 5839.1455432427319), ('india', 5578.9218009844717), ('german', 5022.2607898329743), ('government', 4601.6281136164607), ('japan', 4586.3721629253669), ('country', 4540.0893238868357), ('indian', 4207.6884915315077), ('president', 4025.4984549304836), ('israel', 3986.7976709134523), ('germany', 3787.5844797273508), ('minister', 3668.0489059554402), ('group', 3624.9595251664264), ('day', 3580.2445030941699), ('proter', 3565.1746869372496), ('turkey', 3289.7877836980942), ('israeli', 3269.203746959106)] \n",
      "\n",
      "topic 2\n",
      "[('league', 40340.213865111204), ('club', 37678.499786141183), ('mancher', 28633.027005375021), ('season', 27798.393038521732), ('player', 25481.055477972037), ('goal', 24746.913336640937), ('team', 20062.733326637343), ('cup', 19417.369442603736), ('liverpool', 19211.663391862239), ('city', 18967.325793382275), ('premier', 18351.20048941323), ('play', 18281.405924141047), ('manager', 17929.668327400872), ('score', 17898.253723666894), ('leave', 17877.187369735209), ('chelsea', 17830.395339208866), ('game', 17155.28762450572), ('arsenal', 15557.305493653812), ('football', 15378.907732338659), ('united', 14657.159363890587)] \n",
      "\n",
      "topic 3\n",
      "[('hospital', 29395.831539526345), ('doctor', 19370.387723121963), ('life', 18503.514343192081), ('die', 16950.176427005448), ('day', 16206.730577781009), ('suffer', 15966.675728145507), ('health', 15122.686616082166), ('patient', 15086.609375056027), ('cancer', 14866.87769172813), ('month', 14758.319036593419), ('tell', 13954.287012444674), ('old', 13765.597650305674), ('help', 12833.210854862013), ('leave', 12816.044965806454), ('care', 12727.401244542783), ('week', 12565.197014122663), ('baby', 12307.170890613679), ('medical', 12229.246648637369), ('treatment', 12220.610936490561), ('find', 12125.101953987787)] \n",
      "\n",
      "topic 4\n",
      "[('woman', 38188.70544385157), ('man', 20682.299604971715), ('church', 9913.9616187351949), ('sex', 8487.5841504188647), ('marriage', 7957.1150520049232), ('couple', 6979.8086206512444), ('life', 6943.0796818477138), ('female', 6841.925213976021), ('gay', 6440.1909924849924), ('world', 6138.6955159377494), ('fight', 5627.327875475361), ('right', 5513.4344607067496), ('marry', 5387.3233519600217), ('wife', 5260.6413379226942), ('family', 5220.3126981181404), ('breast', 4869.5817606955143), ('christian', 4869.5531799837545), ('husband', 4676.3372066517886), ('male', 4647.1447402171207), ('live', 3810.0056450338302)] \n",
      "\n",
      "topic 5\n",
      "[('china', 11589.968148080903), ('country', 11047.99926228221), ('people', 8355.1459129636842), ('chinese', 7791.5327339935702), ('africa', 7462.2055091780849), ('south', 6954.8018301242146), ('state', 6642.8569770128142), ('world', 6486.218198166378), ('report', 5836.559831515814), ('african', 5409.3076889434515), ('official', 5338.1944747427515), ('international', 4470.1254966191764), ('united', 4314.2410314683457), ('nation', 4302.957300979936), ('health', 4047.0507782071581), ('accord', 3797.7112702581999), ('case', 3681.5834310137038), ('virus', 3578.6804528611738), ('government', 3518.3390283931017), ('ebola', 3492.9129579392238)] \n",
      "\n",
      "topic 6\n",
      "[('military', 14056.368754216021), ('attack', 13981.669898983395), ('al', 13476.901150212081), ('war', 12175.143297292123), ('force', 11808.390722045819), ('kill', 9531.7696100964022), ('soldier', 9420.7804212445571), ('security', 9419.846563396417), ('group', 9024.7627526855285), ('state', 8537.1008224166781), ('army', 8499.0047527058141), ('official', 8220.9186101064479), ('government', 7429.9709110772619), ('north', 6790.2042656980921), ('bomb', 6403.596036785787), ('iraq', 6320.5765440849973), ('afghanistan', 6100.9670162280709), ('syria', 5976.2130836294918), ('terrorist', 5864.7101401516602), ('islamic', 5622.0683238689098)] \n",
      "\n",
      "topic 7\n",
      "[('find', 19567.52232288511), ('water', 17806.746887413185), ('food', 16835.860977858581), ('scientist', 10944.72691455898), ('animal', 10209.137948669726), ('eat', 9403.8883325829247), ('fish', 6725.823415185062), ('researcher', 6662.2355992112407), ('scroll', 6642.9870581419445), ('large', 6575.361302858928), ('earth', 6565.149854938084), ('raurant', 6473.3887609484109), ('human', 6375.2529948039692), ('discover', 6237.2318571113819), ('bird', 6227.0533754568205), ('ice', 6151.2068925153826), ('like', 5784.7796427241838), ('sea', 5688.0401263086978), ('beach', 5519.4392737086218), ('believe', 5417.9704695410264)] \n",
      "\n",
      "topic 8\n",
      "[('cent', 36548.43927268705), ('million', 26749.319714087411), ('pay', 25538.010503075999), ('new', 22274.224810078515), ('money', 19328.498068163532), ('cost', 17178.899491068572), ('company', 17120.114870053698), ('sell', 16187.588337752873), ('price', 15696.634198898351), ('high', 15674.25456559642), ('number', 14766.463295773201), ('people', 13384.397678277555), ('increase', 13021.249283309318), ('work', 12255.166080329029), ('percent', 12254.156006819243), ('buy', 12063.942867574713), ('tax', 11349.883238424178), ('sale', 11316.245828773233), ('bank', 11274.771774743122), ('accord', 11027.647871003221)] \n",
      "\n",
      "topic 9\n",
      "[('mr', 67141.936525950354), ('publish', 46737.291155467479), ('london', 33509.908605912809), ('update', 30278.932712993279), ('british', 22019.304743475783), ('britain', 20303.142093276827), ('updated', 19246.427760909181), ('today', 15861.129109368196), ('home', 14731.554378465251), ('david', 14238.485665876889), ('picture', 14214.265714000585), ('royal', 13967.948321626085), ('leave', 13375.147112780163), ('uk', 11744.62421633043), ('november', 11384.965348946114), ('cameron', 10930.263853596491), ('crown', 10325.199561316858), ('october', 9913.8622496430216), ('march', 9852.5290247335652), ('prince', 9741.6253768322804)] \n",
      "\n",
      "topic 10\n",
      "[('people', 22029.162647670932), ('minister', 17974.911378346173), ('think', 16525.077107378209), ('party', 16294.829448952314), ('want', 15223.255680501847), ('tell', 11934.513230700588), ('come', 11720.923839383615), ('right', 11408.049359740438), ('labour', 11371.345573373394), ('speak', 10279.666001024094), ('ask', 10059.196585026601), ('change', 9760.1072380829755), ('prime', 9601.3768903165783), ('leader', 9567.7756246774243), ('like', 8842.1690005806031), ('way', 8735.5082683481851), ('go', 8687.5317649360459), ('quion', 8633.4180348702939), ('call', 8488.8330524360499), ('yerday', 7985.3421432484793)] \n",
      "\n",
      "topic 11\n",
      "[('president', 26069.310204874084), ('state', 20178.231283670502), ('obama', 15373.763108074538), ('new', 14137.099166884558), ('american', 11050.225775382569), ('house', 9243.8722849397036), ('washington', 9182.3200797444861), ('york', 8565.9778319062989), ('white', 8121.8149787933635), ('republican', 6585.1035499254531), ('bill', 5905.5552988190957), ('clinton', 5247.5843780614205), ('barack', 4838.3928993539512), ('national', 4249.9650425925065), ('bush', 4229.3749022763277), ('tuesday', 4155.3923308726426), ('united', 4084.6654189868423), ('presidential', 3950.7033318264807), ('campaign', 3917.8292458891215), ('vice', 3885.1220036185887)] \n",
      "\n",
      "topic 12\n",
      "[('win', 40107.53823275114), ('world', 32581.499696909534), ('game', 30546.685485903232), ('team', 27797.208599171248), ('play', 21297.855507759832), ('second', 19061.714090002984), ('england', 18230.118587315719), ('final', 17802.358024608202), ('match', 16438.184022976115), ('player', 15804.180169099969), ('sport', 14971.108123342508), ('coach', 13912.056745633654), ('good', 13716.760219040305), ('cup', 13154.219582531372), ('race', 12836.614533425254), ('champion', 12347.197358885905), ('open', 12222.170032147607), ('set', 10805.071096288306), ('round', 10713.289497855609), ('old', 10589.97059763536)] \n",
      "\n"
     ]
    },
    {
     "name": "stdout",
     "output_type": "stream",
     "text": [
      "topic 13\n",
      "[('child', 63985.449922156673), ('school', 49136.597142767554), ('old', 37837.603949187316), ('mother', 34385.09263713198), ('girl', 30021.017763181844), ('family', 29125.895248280704), ('student', 26918.839000504031), ('boy', 25824.29566748616), ('parent', 24522.481716021965), ('father', 23413.980323381646), ('son', 23322.268123010283), ('young', 23169.921402985205), ('daughter', 22117.488094985638), ('university', 14510.427605078536), ('tell', 14203.065000211718), ('teacher', 11497.627271496785), ('age', 11328.143094462608), ('baby', 10578.271915528836), ('home', 10327.588892994156), ('high', 9171.6638995747471)] \n",
      "\n",
      "topic 14\n",
      "[('claim', 22524.193029115657), ('report', 20656.539235275748), ('law', 14089.393182443921), ('ban', 12546.383584833771), ('rule', 11368.872622403504), ('official', 11201.193436595491), ('statement', 10624.793308836975), ('invigation', 10407.521664453712), ('case', 10009.034229770978), ('file', 9913.3226966960992), ('public', 9369.1533683703419), ('tell', 8992.8433081123858), ('information', 8831.0528989329287), ('letter', 8809.7301083505663), ('issue', 8561.2069230007528), ('allow', 8030.6218796110434), ('service', 7790.254858472008), ('legal', 7711.678568081612), ('department', 7611.6312816026366), ('state', 7547.2416677178089)] \n",
      "\n",
      "topic 15\n",
      "[('video', 34954.294291123137), ('scroll', 33713.044601257177), ('star', 28863.854528545315), ('film', 23953.593750427564), ('new', 22284.78561535593), ('like', 19906.061667859296), ('go', 18009.741216183476), ('love', 17389.638011235464), ('get', 17279.479655705025), ('day', 16951.515291234671), ('look', 16558.703440790159), ('good', 14998.404388250234), ('friend', 14975.921064962029), ('come', 13693.840342969343), ('night', 13663.952353931374), ('know', 13568.042456302335), ('see', 13109.777375925658), ('wear', 13079.164938209233), ('old', 12878.715706411122), ('play', 12398.895845788882)] \n",
      "\n",
      "topic 16\n",
      "[('dog', 23208.030474056148), ('flight', 17158.146243880889), ('passenger', 14819.602710564572), ('plane', 13589.92034121454), ('airport', 12726.35687910054), ('fly', 11680.972331188088), ('air', 10772.804688806726), ('train', 9654.0741669296222), ('ft', 9326.7336688561609), ('animal', 9047.8087120502478), ('cat', 8682.7072691008161), ('owner', 8642.81569936505), ('airline', 7813.6591063214473), ('board', 7276.0354988274839), ('pilot', 7272.8888927479575), ('crew', 6651.5377556878339), ('take', 6632.4845787161839), ('ship', 6503.8897970928465), ('pet', 6491.6566615932925), ('sydney', 6190.3617361156248)] \n",
      "\n",
      "topic 17\n",
      "[('police', 111418.82607480517), ('man', 49641.99093115532), ('officer', 36294.726421406733), ('find', 33072.215546605505), ('tell', 30596.816370767279), ('old', 29557.338069386962), ('home', 29498.444065731743), ('kill', 25834.791333065015), ('death', 22991.741493039583), ('report', 20972.030458167024), ('shoot', 20360.821355440974), ('attack', 19613.869241104283), ('arr', 19569.698051472307), ('leave', 19541.927324382701), ('take', 18879.027028372177), ('die', 18688.345291118272), ('woman', 18099.631587206295), ('dead', 17312.616818046987), ('incident', 16924.379759749889), ('body', 16514.410593722547)] \n",
      "\n",
      "topic 18\n",
      "[('court', 53620.094161379602), ('charge', 34271.137125494744), ('jail', 20647.576329158292), ('judge', 19291.084062198588), ('prison', 17335.573847477153), ('sentence', 17081.501984337385), ('arr', 14704.403412930214), ('drug', 14283.486705481891), ('trial', 14060.633126539755), ('murder', 13837.49541084611), ('guilty', 13775.405846656406), ('accuse', 13666.250369520567), ('hear', 12399.044513211191), ('case', 11887.234100090551), ('victim', 10845.660610453433), ('face', 10662.947769446144), ('prosecutor', 10621.368403305183), ('sex', 10575.828007652555), ('month', 10503.05112582724), ('assault', 10380.156684017178)] \n",
      "\n",
      "topic 19\n",
      "[('car', 34687.002865361937), ('driver', 16794.532180520047), ('road', 16706.711663617989), ('city', 15868.795676107055), ('drive', 15521.199443010715), ('park', 14172.592647261206), ('area', 13910.170287135246), ('mile', 13523.192509762492), ('home', 13263.775845102462), ('people', 12613.810956928181), ('crash', 11944.288100072754), ('near', 10858.389634076007), ('fire', 10440.165213557368), ('vehicle', 10295.216168896111), ('build', 9837.4138720222581), ('fall', 9275.6941298174352), ('foot', 9107.8958827845308), ('island', 9055.0692970391738), ('town', 9031.7123228671226), ('south', 8998.74819717645)] \n",
      "\n"
     ]
    }
   ],
   "source": [
    "# examine the top 20 words associated with each latent topic\n",
    "for index,values in enumerate(components):\n",
    "    print(\"topic {}\".format(index))\n",
    "    temp = list(zip(word_list, components[index]))\n",
    "    print(sorted(temp, key=lambda x: x[1], reverse=True)[:20],\"\\n\")"
   ]
  },
  {
   "cell_type": "markdown",
   "metadata": {},
   "source": [
    "### Unsupervised Clustering"
   ]
  },
  {
   "cell_type": "code",
   "execution_count": 14,
   "metadata": {
    "collapsed": true
   },
   "outputs": [],
   "source": [
    "# try out a range of cluster sizes to find the one with the best inertia and silhouette scores\n",
    "ns = np.arange(2, 21, 1)\n",
    "inertias = []\n",
    "silhouettes = []\n",
    "\n",
    "for n in ns:\n",
    "    kmeans = KMeans(n_clusters=n, init=\"k-means++\", random_state=8888)\n",
    "    kmeans.fit(X_reduced)\n",
    "    inertias.append(kmeans.inertia_)\n",
    "    labels = kmeans.labels_\n",
    "    # only a sample was used to calculate silhouette score because of memory errors\n",
    "    silhouettes.append(silhouette_score(X_reduced, labels, metric='euclidean', sample_size=10000))"
   ]
  },
  {
   "cell_type": "code",
   "execution_count": 15,
   "metadata": {},
   "outputs": [
    {
     "data": {
      "image/png": "[encoded data removed]",
      "text/plain": [
       "<matplotlib.figure.Figure at 0x16442d0f0>"
      ]
     },
     "metadata": {},
     "output_type": "display_data"
    }
   ],
   "source": [
    "# plot the inertia scores\n",
    "plt.plot(ns, inertias)\n",
    "plt.xlabel('n_cluster')\n",
    "plt.ylabel('inertia');"
   ]
  },
  {
   "cell_type": "code",
   "execution_count": 16,
   "metadata": {},
   "outputs": [
    {
     "data": {
      "image/png": "[encoded data removed]",
      "text/plain": [
       "<matplotlib.figure.Figure at 0x1601f2d68>"
      ]
     },
     "metadata": {},
     "output_type": "display_data"
    }
   ],
   "source": [
    "# plot the silhouettte scores\n",
    "plt.plot(ns, silhouettes)\n",
    "plt.xlabel('n_cluster')\n",
    "plt.ylabel('sihouette score');"
   ]
  },
  {
   "cell_type": "code",
   "execution_count": 18,
   "metadata": {},
   "outputs": [
    {
     "name": "stdout",
     "output_type": "stream",
     "text": [
      "21302.3597181\n",
      "0.245475721455\n"
     ]
    }
   ],
   "source": [
    "# based on inertia and silhouette scores, a cluster size of 11 was selected\n",
    "kmeans = KMeans(n_clusters=11, init=\"k-means++\", random_state=8888)\n",
    "kmeans.fit(X_reduced)\n",
    "cluster_labels = kmeans.labels_\n",
    "print(kmeans.inertia_)\n",
    "print(silhouette_score(X_reduced, cluster_labels, metric='euclidean', sample_size=5000))"
   ]
  },
  {
   "cell_type": "code",
   "execution_count": 19,
   "metadata": {},
   "outputs": [
    {
     "name": "stdout",
     "output_type": "stream",
     "text": [
      "Cluster 0 has 27760 reviews.\n",
      "Cluster 1 has 19038 reviews.\n",
      "Cluster 2 has 21917 reviews.\n",
      "Cluster 3 has 19978 reviews.\n",
      "Cluster 4 has 13618 reviews.\n",
      "Cluster 5 has 19292 reviews.\n",
      "Cluster 6 has 28892 reviews.\n",
      "Cluster 7 has 14276 reviews.\n",
      "Cluster 8 has 23706 reviews.\n",
      "Cluster 9 has 34562 reviews.\n",
      "Cluster 10 has 28289 reviews.\n"
     ]
    }
   ],
   "source": [
    "# examine the number of reviews for in each cluster\n",
    "for cluster in range(len(set(cluster_labels))):\n",
    "    print(\"Cluster {} has {} reviews.\".format(cluster, sum(cluster_labels==cluster)))"
   ]
  },
  {
   "cell_type": "code",
   "execution_count": 20,
   "metadata": {
    "collapsed": true
   },
   "outputs": [],
   "source": [
    "# add cluster label to dict\n",
    "index = 0\n",
    "for article_dict in cleaned_articles_dict:\n",
    "    article_dict[\"cluster\"] = (cluster_labels[index])\n",
    "    index += 1"
   ]
  },
  {
   "cell_type": "code",
   "execution_count": null,
   "metadata": {
    "collapsed": true
   },
   "outputs": [],
   "source": [
    "# pickle for future use\n",
    "pickle.dump(cleaned_articles_dict,open(\"clustered_articles_dict.pkl\",\"wb\"))"
   ]
  },
  {
   "cell_type": "markdown",
   "metadata": {},
   "source": [
    "After topic modeling and unsupervised clustering, I identified clusters of articles associated with crime, technology and science, soccer, business, culture and celebrities, terrorism and military, and sports."
   ]
  }
 ],
 "metadata": {
  "kernelspec": {
   "display_name": "Python 3",
   "language": "python",
   "name": "python3"
  },
  "language_info": {
   "codemirror_mode": {
    "name": "ipython",
    "version": 3
   },
   "file_extension": ".py",
   "mimetype": "text/x-python",
   "name": "python",
   "nbconvert_exporter": "python",
   "pygments_lexer": "ipython3",
   "version": "3.6.2"
  }
 },
 "nbformat": 4,
 "nbformat_minor": 2
}
