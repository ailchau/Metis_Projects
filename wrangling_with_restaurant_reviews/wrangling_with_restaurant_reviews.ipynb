{
 "cells": [
  {
   "cell_type": "markdown",
   "metadata": {},
   "source": [
    "# Wrangling with Restaurant Reviews\n",
    "\n",
    "The objective of this project was to identify latent topics and cluster Toronto restaurant Yelp reviews using sentiment analysis, dimensionality reduction, and unsupervised clustering."
   ]
  },
  {
   "cell_type": "code",
   "execution_count": 1,
   "metadata": {},
   "outputs": [
    {
     "name": "stderr",
     "output_type": "stream",
     "text": [
      "/anaconda/lib/python3.6/site-packages/nltk/twitter/__init__.py:20: UserWarning:\n",
      "\n",
      "The twython library has not been installed. Some functionality from the twitter package will not be available.\n",
      "\n"
     ]
    }
   ],
   "source": [
    "import json\n",
    "import pandas as pd\n",
    "import numpy as np\n",
    "import scipy as sp\n",
    "from copy import deepcopy\n",
    "import matplotlib.pyplot as plt\n",
    "import seaborn as sns\n",
    "from wordcloud import WordCloud, STOPWORDS\n",
    "import plotly\n",
    "import plotly.plotly as py\n",
    "from plotly.graph_objs import *\n",
    "from scipy.misc import imread\n",
    "\n",
    "import nltk\n",
    "import spacy\n",
    "import re\n",
    "import pickle\n",
    "\n",
    "from sklearn.feature_extraction.text import CountVectorizer, TfidfVectorizer\n",
    "from sklearn.decomposition import NMF, LatentDirichletAllocation\n",
    "from sklearn.decomposition import TruncatedSVD\n",
    "from sklearn.cluster import KMeans, AgglomerativeClustering, DBSCAN\n",
    "from sklearn.metrics import silhouette_score\n",
    "from nltk.sentiment.vader import SentimentIntensityAnalyzer\n",
    "\n",
    "%matplotlib inline"
   ]
  },
  {
   "cell_type": "code",
   "execution_count": 2,
   "metadata": {
    "collapsed": true
   },
   "outputs": [],
   "source": [
    "nlp = spacy.load('en')"
   ]
  },
  {
   "cell_type": "code",
   "execution_count": 3,
   "metadata": {
    "collapsed": true
   },
   "outputs": [],
   "source": [
    "sns.set_style(\"whitegrid\")"
   ]
  },
  {
   "cell_type": "markdown",
   "metadata": {},
   "source": [
    "### Load and subset data for Toronto restaurants"
   ]
  },
  {
   "cell_type": "code",
   "execution_count": 2,
   "metadata": {},
   "outputs": [
    {
     "data": {
      "text/plain": [
       "(4153150, 10)"
      ]
     },
     "execution_count": 2,
     "metadata": {},
     "output_type": "execute_result"
    }
   ],
   "source": [
    "# load review data\n",
    "df_reviews = pd.read_json('./yelp_dataset_challenge_round9/yelp_academic_dataset_review.json',lines=True)\n",
    "df_reviews.shape"
   ]
  },
  {
   "cell_type": "code",
   "execution_count": 30,
   "metadata": {},
   "outputs": [
    {
     "data": {
      "text/plain": [
       "Index(['business_id', 'cool', 'date', 'funny', 'review_id', 'stars', 'text',\n",
       "       'type', 'useful', 'user_id'],\n",
       "      dtype='object')"
      ]
     },
     "execution_count": 30,
     "metadata": {},
     "output_type": "execute_result"
    }
   ],
   "source": [
    "df_reviews.columns"
   ]
  },
  {
   "cell_type": "code",
   "execution_count": 31,
   "metadata": {
    "collapsed": true
   },
   "outputs": [],
   "source": [
    "# load business information data\n",
    "df_business = pd.read_json('/home/aileen/yelp/yelp_dataset_challenge_round9/yelp_academic_dataset_business.json',lines=True)"
   ]
  },
  {
   "cell_type": "code",
   "execution_count": 32,
   "metadata": {},
   "outputs": [
    {
     "data": {
      "text/plain": [
       "(144072, 16)"
      ]
     },
     "execution_count": 32,
     "metadata": {},
     "output_type": "execute_result"
    }
   ],
   "source": [
    "df_business.shape"
   ]
  },
  {
   "cell_type": "code",
   "execution_count": 33,
   "metadata": {},
   "outputs": [
    {
     "data": {
      "text/plain": [
       "(4153150, 25)"
      ]
     },
     "execution_count": 33,
     "metadata": {},
     "output_type": "execute_result"
    }
   ],
   "source": [
    "# merge the review data frame and the business information data frame\n",
    "df = df_business.merge(df_reviews, how=\"right\", left_on=\"business_id\", right_on=\"business_id\")\n",
    "df.shape"
   ]
  },
  {
   "cell_type": "code",
   "execution_count": 34,
   "metadata": {},
   "outputs": [
    {
     "data": {
      "text/plain": [
       "Index(['address', 'attributes', 'business_id', 'categories', 'city', 'hours',\n",
       "       'is_open', 'latitude', 'longitude', 'name', 'neighborhood',\n",
       "       'postal_code', 'review_count', 'stars_x', 'state', 'type_x', 'cool',\n",
       "       'date', 'funny', 'review_id', 'stars_y', 'text', 'type_y', 'useful',\n",
       "       'user_id'],\n",
       "      dtype='object')"
      ]
     },
     "execution_count": 34,
     "metadata": {},
     "output_type": "execute_result"
    }
   ],
   "source": [
    "df.columns"
   ]
  },
  {
   "cell_type": "code",
   "execution_count": 38,
   "metadata": {},
   "outputs": [
    {
     "data": {
      "text/plain": [
       "(349696, 25)"
      ]
     },
     "execution_count": 38,
     "metadata": {},
     "output_type": "execute_result"
    }
   ],
   "source": [
    "# subset only Toronto buisnesses\n",
    "to_all = df[df.city==\"Toronto\"]\n",
    "to_all.shape"
   ]
  },
  {
   "cell_type": "code",
   "execution_count": 41,
   "metadata": {},
   "outputs": [
    {
     "name": "stderr",
     "output_type": "stream",
     "text": [
      "/usr/local/lib/python3.5/dist-packages/ipykernel_launcher.py:9: SettingWithCopyWarning: \n",
      "A value is trying to be set on a copy of a slice from a DataFrame.\n",
      "Try using .loc[row_indexer,col_indexer] = value instead\n",
      "\n",
      "See the caveats in the documentation: http://pandas.pydata.org/pandas-docs/stable/indexing.html#indexing-view-versus-copy\n",
      "  if __name__ == '__main__':\n"
     ]
    }
   ],
   "source": [
    "# identify restaurant businesses\n",
    "restaurant = []\n",
    "\n",
    "for index, value in enumerate(to_all.categories):\n",
    "    try:\n",
    "        restaurant.append(\"Restaurants\" in value)\n",
    "    except:\n",
    "        restaurant.append(np.nan)\n",
    "        \n",
    "to_all['restaurant'] = restaurant\n",
    "to = to_all[to_all.restaurant==True].reset_index()"
   ]
  },
  {
   "cell_type": "code",
   "execution_count": 43,
   "metadata": {
    "collapsed": true
   },
   "outputs": [],
   "source": [
    "# pickle for future use\n",
    "pickle.dump(to, open(\"to.pkl\", \"wb\"))"
   ]
  },
  {
   "cell_type": "markdown",
   "metadata": {},
   "source": [
    "### Explore data"
   ]
  },
  {
   "cell_type": "code",
   "execution_count": 4,
   "metadata": {
    "collapsed": true
   },
   "outputs": [],
   "source": [
    "# load pickled Toronto resturants data frame\n",
    "to = pickle.load(open(\"to.pkl\", \"rb\"))"
   ]
  },
  {
   "cell_type": "code",
   "execution_count": 5,
   "metadata": {},
   "outputs": [
    {
     "name": "stdout",
     "output_type": "stream",
     "text": [
      "(245127, 27)\n"
     ]
    }
   ],
   "source": [
    "print(to.shape)"
   ]
  },
  {
   "cell_type": "code",
   "execution_count": 6,
   "metadata": {},
   "outputs": [
    {
     "name": "stdout",
     "output_type": "stream",
     "text": [
      "number of unique restaurants: 6347\n",
      "number of unique users: 58355\n"
     ]
    }
   ],
   "source": [
    "print(\"number of unique restaurants: {}\".format(len(to.business_id.unique())))\n",
    "print(\"number of unique users: {}\".format(len(to.user_id.unique())))"
   ]
  },
  {
   "cell_type": "code",
   "execution_count": 7,
   "metadata": {},
   "outputs": [
    {
     "name": "stdout",
     "output_type": "stream",
     "text": [
      "<class 'pandas.core.frame.DataFrame'>\n",
      "RangeIndex: 245127 entries, 0 to 245126\n",
      "Data columns (total 27 columns):\n",
      "index           245127 non-null int64\n",
      "address         245127 non-null object\n",
      "attributes      244689 non-null object\n",
      "business_id     245127 non-null object\n",
      "categories      245127 non-null object\n",
      "city            245127 non-null object\n",
      "hours           216849 non-null object\n",
      "is_open         245127 non-null int64\n",
      "latitude        245127 non-null float64\n",
      "longitude       245127 non-null float64\n",
      "name            245127 non-null object\n",
      "neighborhood    245127 non-null object\n",
      "postal_code     245127 non-null object\n",
      "review_count    245127 non-null int64\n",
      "stars_x         245127 non-null float64\n",
      "state           245127 non-null object\n",
      "type_x          245127 non-null object\n",
      "cool            245127 non-null int64\n",
      "date            245127 non-null datetime64[ns]\n",
      "funny           245127 non-null int64\n",
      "review_id       245127 non-null object\n",
      "stars_y         245127 non-null int64\n",
      "text            245127 non-null object\n",
      "type_y          245127 non-null object\n",
      "useful          245127 non-null int64\n",
      "user_id         245127 non-null object\n",
      "restaurant      245127 non-null object\n",
      "dtypes: datetime64[ns](1), float64(3), int64(7), object(16)\n",
      "memory usage: 50.5+ MB\n"
     ]
    }
   ],
   "source": [
    "to.info()"
   ]
  },
  {
   "cell_type": "code",
   "execution_count": 8,
   "metadata": {},
   "outputs": [
    {
     "data": {
      "text/html": [
       "<div>\n",
       "<style>\n",
       "    .dataframe thead tr:only-child th {\n",
       "        text-align: right;\n",
       "    }\n",
       "\n",
       "    .dataframe thead th {\n",
       "        text-align: left;\n",
       "    }\n",
       "\n",
       "    .dataframe tbody tr th {\n",
       "        vertical-align: top;\n",
       "    }\n",
       "</style>\n",
       "<table border=\"1\" class=\"dataframe\">\n",
       "  <thead>\n",
       "    <tr style=\"text-align: right;\">\n",
       "      <th></th>\n",
       "      <th>index</th>\n",
       "      <th>address</th>\n",
       "      <th>attributes</th>\n",
       "      <th>business_id</th>\n",
       "      <th>categories</th>\n",
       "      <th>city</th>\n",
       "      <th>hours</th>\n",
       "      <th>is_open</th>\n",
       "      <th>latitude</th>\n",
       "      <th>longitude</th>\n",
       "      <th>...</th>\n",
       "      <th>cool</th>\n",
       "      <th>date</th>\n",
       "      <th>funny</th>\n",
       "      <th>review_id</th>\n",
       "      <th>stars_y</th>\n",
       "      <th>text</th>\n",
       "      <th>type_y</th>\n",
       "      <th>useful</th>\n",
       "      <th>user_id</th>\n",
       "      <th>restaurant</th>\n",
       "    </tr>\n",
       "  </thead>\n",
       "  <tbody>\n",
       "    <tr>\n",
       "      <th>7523</th>\n",
       "      <td>145520</td>\n",
       "      <td>570 Yonge Street</td>\n",
       "      <td>[Alcohol: beer_and_wine, Ambience: {'romantic'...</td>\n",
       "      <td>xVHzCbDWCwmyavF5PgJRmg</td>\n",
       "      <td>[Restaurants, Chinese]</td>\n",
       "      <td>Toronto</td>\n",
       "      <td>[Monday 11:0-1:0, Tuesday 11:0-1:0, Wednesday ...</td>\n",
       "      <td>1</td>\n",
       "      <td>43.664973</td>\n",
       "      <td>-79.384593</td>\n",
       "      <td>...</td>\n",
       "      <td>0</td>\n",
       "      <td>2012-06-03</td>\n",
       "      <td>0</td>\n",
       "      <td>Up1t8DSwCMWBa_YxtLzYKA</td>\n",
       "      <td>4</td>\n",
       "      <td>well they finally gave the place a paint job.....</td>\n",
       "      <td>review</td>\n",
       "      <td>0</td>\n",
       "      <td>SkpCulULgiBfLc4lV8vx2g</td>\n",
       "      <td>True</td>\n",
       "    </tr>\n",
       "    <tr>\n",
       "      <th>43033</th>\n",
       "      <td>708362</td>\n",
       "      <td>1755 Lake Shore Boulevard W</td>\n",
       "      <td>[Alcohol: full_bar, Ambience: {'romantic': Fal...</td>\n",
       "      <td>wh_td2_DBlD4KnFgFevW4A</td>\n",
       "      <td>[Diners, Cafes, Restaurants]</td>\n",
       "      <td>Toronto</td>\n",
       "      <td>None</td>\n",
       "      <td>1</td>\n",
       "      <td>43.637874</td>\n",
       "      <td>-79.456214</td>\n",
       "      <td>...</td>\n",
       "      <td>0</td>\n",
       "      <td>2015-08-03</td>\n",
       "      <td>0</td>\n",
       "      <td>D7bkYYZVej0iQjrcTlOXWw</td>\n",
       "      <td>1</td>\n",
       "      <td>Ceaser was good but the food was terrible. Piz...</td>\n",
       "      <td>review</td>\n",
       "      <td>0</td>\n",
       "      <td>oTaktBFskOlb6-qKHSposQ</td>\n",
       "      <td>True</td>\n",
       "    </tr>\n",
       "    <tr>\n",
       "      <th>26082</th>\n",
       "      <td>458854</td>\n",
       "      <td>463 Queen Street W</td>\n",
       "      <td>[Alcohol: none, Ambience: {'romantic': False, ...</td>\n",
       "      <td>YJ05ntGlszxACOD5zn1YjA</td>\n",
       "      <td>[Restaurants, Burgers]</td>\n",
       "      <td>Toronto</td>\n",
       "      <td>[Monday 11:30-22:0, Tuesday 11:30-22:0, Wednes...</td>\n",
       "      <td>1</td>\n",
       "      <td>43.648533</td>\n",
       "      <td>-79.397303</td>\n",
       "      <td>...</td>\n",
       "      <td>0</td>\n",
       "      <td>2015-10-17</td>\n",
       "      <td>0</td>\n",
       "      <td>6IsC3q3ZULUWcbme0SdZYQ</td>\n",
       "      <td>4</td>\n",
       "      <td>Had a cheese burger and fries was really expen...</td>\n",
       "      <td>review</td>\n",
       "      <td>0</td>\n",
       "      <td>f9NVh1UWkW6DTnckfOuwEA</td>\n",
       "      <td>True</td>\n",
       "    </tr>\n",
       "    <tr>\n",
       "      <th>228033</th>\n",
       "      <td>3882920</td>\n",
       "      <td>650 Spadina Avenue</td>\n",
       "      <td>[Alcohol: none, Ambience: {'romantic': False, ...</td>\n",
       "      <td>TqMTY6xTHThm0C7J1pJ7Aw</td>\n",
       "      <td>[Restaurants, Barbeque, Sandwiches, American (...</td>\n",
       "      <td>Toronto</td>\n",
       "      <td>[Monday 11:0-22:0, Tuesday 11:0-22:0, Wednesda...</td>\n",
       "      <td>1</td>\n",
       "      <td>43.663182</td>\n",
       "      <td>-79.402567</td>\n",
       "      <td>...</td>\n",
       "      <td>0</td>\n",
       "      <td>2015-08-15</td>\n",
       "      <td>0</td>\n",
       "      <td>fQGzDX8DlQ2hOtdvNRKaNg</td>\n",
       "      <td>5</td>\n",
       "      <td>Had the brisket and fries, it's my new to-go p...</td>\n",
       "      <td>review</td>\n",
       "      <td>0</td>\n",
       "      <td>fTR9nlcHU13UGOI2CtRhcw</td>\n",
       "      <td>True</td>\n",
       "    </tr>\n",
       "    <tr>\n",
       "      <th>42088</th>\n",
       "      <td>696427</td>\n",
       "      <td>127 Strachan Avenue</td>\n",
       "      <td>[Alcohol: full_bar, Ambience: {'romantic': Fal...</td>\n",
       "      <td>YKbJP76PSTRXqTU_GNKoeQ</td>\n",
       "      <td>[Restaurants, American (New), Italian, Canadia...</td>\n",
       "      <td>Toronto</td>\n",
       "      <td>None</td>\n",
       "      <td>0</td>\n",
       "      <td>43.643315</td>\n",
       "      <td>-79.412055</td>\n",
       "      <td>...</td>\n",
       "      <td>2</td>\n",
       "      <td>2009-12-08</td>\n",
       "      <td>3</td>\n",
       "      <td>e4bBEQlmBq1lVrUwjW3zMw</td>\n",
       "      <td>4</td>\n",
       "      <td>In the middle of residential homes and a mecha...</td>\n",
       "      <td>review</td>\n",
       "      <td>1</td>\n",
       "      <td>qt1b6zXExL-uoJGRRouQYw</td>\n",
       "      <td>True</td>\n",
       "    </tr>\n",
       "  </tbody>\n",
       "</table>\n",
       "<p>5 rows × 27 columns</p>\n",
       "</div>"
      ],
      "text/plain": [
       "          index                      address  \\\n",
       "7523     145520             570 Yonge Street   \n",
       "43033    708362  1755 Lake Shore Boulevard W   \n",
       "26082    458854           463 Queen Street W   \n",
       "228033  3882920           650 Spadina Avenue   \n",
       "42088    696427          127 Strachan Avenue   \n",
       "\n",
       "                                               attributes  \\\n",
       "7523    [Alcohol: beer_and_wine, Ambience: {'romantic'...   \n",
       "43033   [Alcohol: full_bar, Ambience: {'romantic': Fal...   \n",
       "26082   [Alcohol: none, Ambience: {'romantic': False, ...   \n",
       "228033  [Alcohol: none, Ambience: {'romantic': False, ...   \n",
       "42088   [Alcohol: full_bar, Ambience: {'romantic': Fal...   \n",
       "\n",
       "                   business_id  \\\n",
       "7523    xVHzCbDWCwmyavF5PgJRmg   \n",
       "43033   wh_td2_DBlD4KnFgFevW4A   \n",
       "26082   YJ05ntGlszxACOD5zn1YjA   \n",
       "228033  TqMTY6xTHThm0C7J1pJ7Aw   \n",
       "42088   YKbJP76PSTRXqTU_GNKoeQ   \n",
       "\n",
       "                                               categories     city  \\\n",
       "7523                               [Restaurants, Chinese]  Toronto   \n",
       "43033                        [Diners, Cafes, Restaurants]  Toronto   \n",
       "26082                              [Restaurants, Burgers]  Toronto   \n",
       "228033  [Restaurants, Barbeque, Sandwiches, American (...  Toronto   \n",
       "42088   [Restaurants, American (New), Italian, Canadia...  Toronto   \n",
       "\n",
       "                                                    hours  is_open   latitude  \\\n",
       "7523    [Monday 11:0-1:0, Tuesday 11:0-1:0, Wednesday ...        1  43.664973   \n",
       "43033                                                None        1  43.637874   \n",
       "26082   [Monday 11:30-22:0, Tuesday 11:30-22:0, Wednes...        1  43.648533   \n",
       "228033  [Monday 11:0-22:0, Tuesday 11:0-22:0, Wednesda...        1  43.663182   \n",
       "42088                                                None        0  43.643315   \n",
       "\n",
       "        longitude     ...     cool       date funny               review_id  \\\n",
       "7523   -79.384593     ...        0 2012-06-03     0  Up1t8DSwCMWBa_YxtLzYKA   \n",
       "43033  -79.456214     ...        0 2015-08-03     0  D7bkYYZVej0iQjrcTlOXWw   \n",
       "26082  -79.397303     ...        0 2015-10-17     0  6IsC3q3ZULUWcbme0SdZYQ   \n",
       "228033 -79.402567     ...        0 2015-08-15     0  fQGzDX8DlQ2hOtdvNRKaNg   \n",
       "42088  -79.412055     ...        2 2009-12-08     3  e4bBEQlmBq1lVrUwjW3zMw   \n",
       "\n",
       "        stars_y                                               text  type_y  \\\n",
       "7523          4  well they finally gave the place a paint job.....  review   \n",
       "43033         1  Ceaser was good but the food was terrible. Piz...  review   \n",
       "26082         4  Had a cheese burger and fries was really expen...  review   \n",
       "228033        5  Had the brisket and fries, it's my new to-go p...  review   \n",
       "42088         4  In the middle of residential homes and a mecha...  review   \n",
       "\n",
       "        useful                 user_id  restaurant  \n",
       "7523         0  SkpCulULgiBfLc4lV8vx2g        True  \n",
       "43033        0  oTaktBFskOlb6-qKHSposQ        True  \n",
       "26082        0  f9NVh1UWkW6DTnckfOuwEA        True  \n",
       "228033       0  fTR9nlcHU13UGOI2CtRhcw        True  \n",
       "42088        1  qt1b6zXExL-uoJGRRouQYw        True  \n",
       "\n",
       "[5 rows x 27 columns]"
      ]
     },
     "execution_count": 8,
     "metadata": {},
     "output_type": "execute_result"
    }
   ],
   "source": [
    "to.sample(5)"
   ]
  },
  {
   "cell_type": "code",
   "execution_count": 104,
   "metadata": {
    "collapsed": true
   },
   "outputs": [],
   "source": [
    "businesses = deepcopy(to[[\"business_id\", \"latitude\", \"longitude\", \"name\"]])\n",
    "business_location = businesses.drop_duplicates()"
   ]
  },
  {
   "cell_type": "code",
   "execution_count": 105,
   "metadata": {},
   "outputs": [
    {
     "data": {
      "text/plain": [
       "(6347, 4)"
      ]
     },
     "execution_count": 105,
     "metadata": {},
     "output_type": "execute_result"
    }
   ],
   "source": [
    "business_location.shape"
   ]
  },
  {
   "cell_type": "code",
   "execution_count": 106,
   "metadata": {},
   "outputs": [
    {
     "data": {
      "text/html": [
       "<div>\n",
       "<style>\n",
       "    .dataframe thead tr:only-child th {\n",
       "        text-align: right;\n",
       "    }\n",
       "\n",
       "    .dataframe thead th {\n",
       "        text-align: left;\n",
       "    }\n",
       "\n",
       "    .dataframe tbody tr th {\n",
       "        vertical-align: top;\n",
       "    }\n",
       "</style>\n",
       "<table border=\"1\" class=\"dataframe\">\n",
       "  <thead>\n",
       "    <tr style=\"text-align: right;\">\n",
       "      <th></th>\n",
       "      <th>latitude</th>\n",
       "      <th>longitude</th>\n",
       "    </tr>\n",
       "  </thead>\n",
       "  <tbody>\n",
       "    <tr>\n",
       "      <th>count</th>\n",
       "      <td>6347.000000</td>\n",
       "      <td>6347.000000</td>\n",
       "    </tr>\n",
       "    <tr>\n",
       "      <th>mean</th>\n",
       "      <td>43.680059</td>\n",
       "      <td>-79.391671</td>\n",
       "    </tr>\n",
       "    <tr>\n",
       "      <th>std</th>\n",
       "      <td>0.045743</td>\n",
       "      <td>0.059756</td>\n",
       "    </tr>\n",
       "    <tr>\n",
       "      <th>min</th>\n",
       "      <td>43.592411</td>\n",
       "      <td>-79.703390</td>\n",
       "    </tr>\n",
       "    <tr>\n",
       "      <th>25%</th>\n",
       "      <td>43.650888</td>\n",
       "      <td>-79.416981</td>\n",
       "    </tr>\n",
       "    <tr>\n",
       "      <th>50%</th>\n",
       "      <td>43.663553</td>\n",
       "      <td>-79.393216</td>\n",
       "    </tr>\n",
       "    <tr>\n",
       "      <th>75%</th>\n",
       "      <td>43.688668</td>\n",
       "      <td>-79.373740</td>\n",
       "    </tr>\n",
       "    <tr>\n",
       "      <th>max</th>\n",
       "      <td>43.876501</td>\n",
       "      <td>-79.137540</td>\n",
       "    </tr>\n",
       "  </tbody>\n",
       "</table>\n",
       "</div>"
      ],
      "text/plain": [
       "          latitude    longitude\n",
       "count  6347.000000  6347.000000\n",
       "mean     43.680059   -79.391671\n",
       "std       0.045743     0.059756\n",
       "min      43.592411   -79.703390\n",
       "25%      43.650888   -79.416981\n",
       "50%      43.663553   -79.393216\n",
       "75%      43.688668   -79.373740\n",
       "max      43.876501   -79.137540"
      ]
     },
     "execution_count": 106,
     "metadata": {},
     "output_type": "execute_result"
    }
   ],
   "source": [
    "business_location[[\"latitude\",\"longitude\"]].describe()"
   ]
  },
  {
   "cell_type": "code",
   "execution_count": 107,
   "metadata": {},
   "outputs": [
    {
     "data": {
      "text/html": [
       "<iframe id=\"igraph\" scrolling=\"no\" style=\"border:none;\" seamless=\"seamless\" src=\"https://plot.ly/~supercalifragilists/8.embed\" height=\"525px\" width=\"100%\"></iframe>"
      ],
      "text/plain": [
       "<plotly.tools.PlotlyDisplay object>"
      ]
     },
     "execution_count": 107,
     "metadata": {},
     "output_type": "execute_result"
    }
   ],
   "source": [
    "# plot the location of all the restaurants using Plotly\n",
    "import plotly.plotly as py\n",
    "from plotly.graph_objs import *\n",
    "\n",
    "data1 = Data([\n",
    "    Scattermapbox(\n",
    "        lat=business_location['latitude'],\n",
    "        lon=business_location['longitude'],\n",
    "        mode='markers',\n",
    "        marker=Marker(\n",
    "            color = 'red',\n",
    "            size=9,\n",
    "        ),\n",
    "        text=business_location['name'],\n",
    "        hoverinfo='text'\n",
    "    )\n",
    "])\n",
    "\n",
    "layout = Layout(\n",
    "    autosize=True,\n",
    "    hovermode='closest',\n",
    "    mapbox=dict(\n",
    "        bearing=0,\n",
    "        # 43.680059° N, 79.391671° W\n",
    "        center=dict(\n",
    "            lat=43.68,\n",
    "            lon=-79.39\n",
    "        ),\n",
    "        pitch=0,\n",
    "        zoom=10\n",
    "    ),\n",
    ")\n",
    "\n",
    "fig1 = dict(data=data1, layout=layout)\n",
    "py.iplot(fig1, filename='Toronto Restaurants Map')"
   ]
  },
  {
   "cell_type": "markdown",
   "metadata": {},
   "source": [
    "### Clean and format reviews\n",
    "\n",
    "Before lemmetizing the reviews, I tried to clean the text and keep possible relevant information. Before removing all non-english characters and numbers, I identified when cost or price, and time was specifically mentioned. I also removed the terms \"toronto\" and \"restaurant\" because they are common and uninformative."
   ]
  },
  {
   "cell_type": "code",
   "execution_count": null,
   "metadata": {
    "collapsed": true
   },
   "outputs": [],
   "source": [
    "# clean reviews\n",
    "text_clean = []\n",
    "punctuation = re.compile(r\"[!#$%&\\'\\\"()\\*\\+,-\\./:;<=>\\?@\\[\\\\\\]^_`{\\|}~]\")\n",
    "\n",
    "for review in to.text:\n",
    "    temp = review.lower()\n",
    "    temp = re.sub(r\"\\n\", \" \", temp)\n",
    "    temp = re.sub(r\"\\$\\d+[\\.\\d]+\", \" price \", temp)\n",
    "    temp = re.sub(r\"\\d+[\\.\\d]+\\$\", \" price \", temp)\n",
    "    temp = re.sub(r\"\\d+:\\d{2}\", \" time \", temp)\n",
    "    temp = re.sub(r\"toronto\", \" \", temp)\n",
    "    temp = re.sub(r\"restaurant\", \" \", temp)\n",
    "    temp = re.sub(r\"[^A-Za-z]+\", \" \", temp)\n",
    "    temp = re.sub(punctuation, \" \", temp)\n",
    "    text_clean.append(temp)\n",
    "    \n",
    "len(text_clean)"
   ]
  },
  {
   "cell_type": "code",
   "execution_count": 10,
   "metadata": {},
   "outputs": [
    {
     "data": {
      "text/plain": [
       "245127"
      ]
     },
     "execution_count": 10,
     "metadata": {},
     "output_type": "execute_result"
    }
   ],
   "source": [
    "# remove stopwords and apply lemmatization\n",
    "def remove_stopwords_lemma(review):\n",
    "    remain = ''\n",
    "    doc = nlp(review)\n",
    "    for token in doc:\n",
    "        if token.is_stop:\n",
    "            continue\n",
    "        elif token.is_space:\n",
    "            continue\n",
    "        elif len(token)<=1:\n",
    "            continue\n",
    "        else:\n",
    "            remain += token.lemma_ + ' '\n",
    "    return remain\n",
    "\n",
    "\n",
    "bag_of_words = []\n",
    "for review in text_clean:\n",
    "    bag_of_words.append(remove_stopwords_lemma(review))\n",
    "\n",
    "len(bag_of_words)"
   ]
  },
  {
   "cell_type": "code",
   "execution_count": 14,
   "metadata": {},
   "outputs": [
    {
     "name": "stdout",
     "output_type": "stream",
     "text": [
      "Their chicken tacos melt in your mouth. The prices are a steal! The rice was a little dry to my liking but everything else was delicious. I wanted to try the empanadas but they were sold out. :(  I will definitely come back for the tacos and order the empanadas.  The food is fresh and their pops are imported from Mexico so the coke tastes a but different (not as carbonated and strong).  The place only has about 6 tables so it's small. I would order take-out if it seems busy.\n",
      "their chicken tacos melt in your mouth the prices are a steal the rice was a little dry to my liking but everything else was delicious i wanted to try the empanadas but they were sold out i will definitely come back for the tacos and order the empanadas the food is fresh and their pops are imported from mexico so the coke tastes a but different not as carbonated and strong the place only has about tables so it s small i would order take out if it seems busy \n",
      "chicken taco melt mouth price steal rice little dry liking delicious want try empanadas sell definitely come tacos order empanadas food fresh pop import mexico coke taste different carbonated strong place table small order busy \n"
     ]
    }
   ],
   "source": [
    "print(to.text[25050])\n",
    "print(text_clean[25050])\n",
    "print(bag_of_words[25050])"
   ]
  },
  {
   "cell_type": "code",
   "execution_count": 15,
   "metadata": {
    "collapsed": true
   },
   "outputs": [],
   "source": [
    "# pickle for future use\n",
    "pickle.dump(text_clean, open(\"text_clean.pkl\", \"wb\"))\n",
    "pickle.dump(bag_of_words, open(\"bag_of_words.pkl\", \"wb\"))"
   ]
  },
  {
   "cell_type": "markdown",
   "metadata": {},
   "source": [
    "### Sentiment analysis on reviews"
   ]
  },
  {
   "cell_type": "code",
   "execution_count": 16,
   "metadata": {
    "collapsed": true
   },
   "outputs": [],
   "source": [
    "# load picked cleaned reviews\n",
    "text_clean = pickle.load(open(\"text_clean.pkl\", \"rb\"))\n",
    "bag_of_words = pickle.load(open(\"bag_of_words.pkl\", \"rb\"))"
   ]
  },
  {
   "cell_type": "code",
   "execution_count": 66,
   "metadata": {},
   "outputs": [
    {
     "data": {
      "text/plain": [
       "245127"
      ]
     },
     "execution_count": 66,
     "metadata": {},
     "output_type": "execute_result"
    }
   ],
   "source": [
    "# sentiment analysis (positive, negative, neutral, compound)\n",
    "pos_nltk = []\n",
    "neg_nltk = []\n",
    "neu_nltk = []\n",
    "compound_nltk = []\n",
    "\n",
    "# get sentiment scores for each review (original)\n",
    "sid = SentimentIntensityAnalyzer()\n",
    "for review in to.text:\n",
    "    ss = sid.polarity_scores(review)\n",
    "    pos_nltk.append(ss['pos'])\n",
    "    neg_nltk.append(ss['neg'])\n",
    "    neu_nltk.append(ss['neu'])\n",
    "    compound_nltk.append(ss['compound'])\n",
    "\n",
    "# add sentiment analysis results to data frame\n",
    "to['pos_nltk'] = pos_nltk\n",
    "to['neg_nltk'] = neg_nltk\n",
    "to['neu_nltk'] = neu_nltk\n",
    "to['compound_nltk'] = compound_nltk\n",
    "    \n",
    "len(pos_nltk)"
   ]
  },
  {
   "cell_type": "code",
   "execution_count": 94,
   "metadata": {},
   "outputs": [
    {
     "data": {
      "text/plain": [
       "0.709540128240705"
      ]
     },
     "execution_count": 94,
     "metadata": {},
     "output_type": "execute_result"
    }
   ],
   "source": [
    "# calculate a combined postive and negative sentiment score\n",
    "# generally positive reviews are \"+\" and generally negative reviews are \"-\"\n",
    "to['combined_nltk'] = to['pos_nltk'] - to['neg_nltk']"
   ]
  },
  {
   "cell_type": "code",
   "execution_count": 15,
   "metadata": {},
   "outputs": [
    {
     "data": {
      "image/png": "[encoded data removed]",
      "text/plain": [
       "<matplotlib.figure.Figure at 0x161bda5c0>"
      ]
     },
     "metadata": {},
     "output_type": "display_data"
    }
   ],
   "source": [
    "# histogram of sentiment scores with positive and negative review thresholds\n",
    "plt.hist(to.combined_nltk, bins=100)\n",
    "plt.axvline(x=-0.1, color=\"k\",linestyle=\"dashed\")\n",
    "plt.axvline(x=0.3, color=\"k\",linestyle=\"dashed\")\n",
    "\n",
    "plt.text(0.55, 11000, \"Positive\", fontsize=13)\n",
    "plt.text(0.55, 10000, \"Reviews\", fontsize=13)\n",
    "plt.text(-0.7, 11000, \"Negative\", fontsize=13)\n",
    "plt.text(-0.7, 10000, \"Reviews\", fontsize=13)\n",
    "plt.xlim(-1.0,1.0)\n",
    "plt.xlabel(\"Sentiment Scores\")\n",
    "plt.ylabel(\"Counts\")\n",
    "\n",
    "plt.savefig(\"polarity_histogram.png\", dpi=900);"
   ]
  },
  {
   "cell_type": "code",
   "execution_count": 95,
   "metadata": {
    "collapsed": true
   },
   "outputs": [],
   "source": [
    "# pickle for future use\n",
    "pickle.dump(to, open(\"to_polarity.pkl\", \"wb\"))"
   ]
  },
  {
   "cell_type": "code",
   "execution_count": 4,
   "metadata": {
    "collapsed": true
   },
   "outputs": [],
   "source": [
    "# load pickled Toronto restaurants data frame\n",
    "to = pickle.load(open(\"to_polarity.pkl\", \"rb\"))"
   ]
  },
  {
   "cell_type": "code",
   "execution_count": 17,
   "metadata": {},
   "outputs": [
    {
     "data": {
      "text/plain": [
       "\"Nice ambiance and good location. Mediocre food and extremely slow service. I was with a party of 6 and it took us just over 3 hours from beginning to end. We weren't eating slowly at all. Thank goodness we skipped appetizers, as I imagine that would have taken another 45 minutes!\""
      ]
     },
     "execution_count": 17,
     "metadata": {},
     "output_type": "execute_result"
    }
   ],
   "source": [
    "to.text[1000]"
   ]
  },
  {
   "cell_type": "markdown",
   "metadata": {},
   "source": [
    "Positive and negative reviews were identified. Positive reviews had sentiment scores > 0.3, and negative reviews had sentiment scores < -0.2. This was to avoid neutral reviews."
   ]
  },
  {
   "cell_type": "code",
   "execution_count": 18,
   "metadata": {},
   "outputs": [
    {
     "data": {
      "text/plain": [
       "30528"
      ]
     },
     "execution_count": 18,
     "metadata": {},
     "output_type": "execute_result"
    }
   ],
   "source": [
    "# collect positive sentiment reviews together\n",
    "positive_reviews = [bag_of_words[index] for index,polarity in enumerate(to.combined_nltk) if polarity > 0.3]\n",
    "len(positive_reviews)"
   ]
  },
  {
   "cell_type": "code",
   "execution_count": 35,
   "metadata": {},
   "outputs": [
    {
     "name": "stdout",
     "output_type": "stream",
     "text": [
      "Sentiment score: 0.865\n",
      "Review: Elegant, comfortable, inspiring. Beautiful and delicious food. Always a smile.\n"
     ]
    }
   ],
   "source": [
    "# example of positive review\n",
    "print(\"Sentiment score: {}\".format(to.combined_nltk[14059]))\n",
    "print(\"Review: {}\".format(to.text[14059]))"
   ]
  },
  {
   "cell_type": "code",
   "execution_count": 20,
   "metadata": {},
   "outputs": [
    {
     "data": {
      "text/plain": [
       "1531"
      ]
     },
     "execution_count": 20,
     "metadata": {},
     "output_type": "execute_result"
    }
   ],
   "source": [
    "# collect negative sentiment reviews together\n",
    "negative_reviews = [bag_of_words[index] for index,polarity in enumerate(to.combined_nltk) if polarity < -0.2]\n",
    "len(negative_reviews)"
   ]
  },
  {
   "cell_type": "code",
   "execution_count": 36,
   "metadata": {},
   "outputs": [
    {
     "name": "stdout",
     "output_type": "stream",
     "text": [
      "Sentiment score: -0.711\n",
      "Review: Terrible food. Flat beer. Bad service. Uncomfortable atmosphere. \n",
      "Gross.\n"
     ]
    }
   ],
   "source": [
    "# example of negative review\n",
    "print(\"Sentiment score: {}\".format(to.combined_nltk[198798]))\n",
    "print(\"Review: {}\".format(to.text[198798]))"
   ]
  },
  {
   "cell_type": "markdown",
   "metadata": {},
   "source": [
    "Based on visual examination, most of the sentiment scores matched their corresponding review. However, there were a small number of sentiments scores that did not match the review.\n",
    "\n",
    "In the example below, \"damn\" was interpreted as a negative word, but in this context it was a positive word."
   ]
  },
  {
   "cell_type": "code",
   "execution_count": 11,
   "metadata": {},
   "outputs": [
    {
     "name": "stdout",
     "output_type": "stream",
     "text": [
      "-0.73\n",
      "Damn spicy. Damn greasy. Damn cheap. Damn tasty.\n"
     ]
    }
   ],
   "source": [
    "# problematic sentiment analysis result example\n",
    "print(to.combined_nltk[203769])\n",
    "print(to.text[203769])"
   ]
  },
  {
   "cell_type": "code",
   "execution_count": 22,
   "metadata": {
    "collapsed": true
   },
   "outputs": [],
   "source": [
    "# pickle for future use\n",
    "pickle.dump(positive_reviews, open(\"positive_reviews.pkl\", \"wb\"))\n",
    "pickle.dump(negative_reviews, open(\"negative_reviews.pkl\", \"wb\"))"
   ]
  },
  {
   "cell_type": "code",
   "execution_count": 5,
   "metadata": {
    "collapsed": true
   },
   "outputs": [],
   "source": [
    "# load pickled positive and negative reviews\n",
    "positive_reviews = pickle.load(open(\"positive_reviews.pkl\", \"rb\"))\n",
    "negative_reviews = pickle.load(open(\"negative_reviews.pkl\", \"rb\"))"
   ]
  },
  {
   "cell_type": "code",
   "execution_count": 16,
   "metadata": {},
   "outputs": [
    {
     "data": {
      "text/html": [
       "<div>\n",
       "<style>\n",
       "    .dataframe thead tr:only-child th {\n",
       "        text-align: right;\n",
       "    }\n",
       "\n",
       "    .dataframe thead th {\n",
       "        text-align: left;\n",
       "    }\n",
       "\n",
       "    .dataframe tbody tr th {\n",
       "        vertical-align: top;\n",
       "    }\n",
       "</style>\n",
       "<table border=\"1\" class=\"dataframe\">\n",
       "  <thead>\n",
       "    <tr style=\"text-align: right;\">\n",
       "      <th></th>\n",
       "      <th>combined_nltk</th>\n",
       "      <th>pos_nltk</th>\n",
       "      <th>neg_nltk</th>\n",
       "      <th>neu_nltk</th>\n",
       "      <th>compound_nltk</th>\n",
       "    </tr>\n",
       "  </thead>\n",
       "  <tbody>\n",
       "    <tr>\n",
       "      <th>count</th>\n",
       "      <td>245127.000000</td>\n",
       "      <td>245127.000000</td>\n",
       "      <td>245127.000000</td>\n",
       "      <td>245127.000000</td>\n",
       "      <td>245127.000000</td>\n",
       "    </tr>\n",
       "    <tr>\n",
       "      <th>mean</th>\n",
       "      <td>0.152586</td>\n",
       "      <td>0.194614</td>\n",
       "      <td>0.042028</td>\n",
       "      <td>0.763353</td>\n",
       "      <td>0.707457</td>\n",
       "    </tr>\n",
       "    <tr>\n",
       "      <th>std</th>\n",
       "      <td>0.135020</td>\n",
       "      <td>0.106829</td>\n",
       "      <td>0.049761</td>\n",
       "      <td>0.097719</td>\n",
       "      <td>0.494958</td>\n",
       "    </tr>\n",
       "    <tr>\n",
       "      <th>min</th>\n",
       "      <td>-0.773000</td>\n",
       "      <td>0.000000</td>\n",
       "      <td>0.000000</td>\n",
       "      <td>0.000000</td>\n",
       "      <td>-0.998500</td>\n",
       "    </tr>\n",
       "    <tr>\n",
       "      <th>25%</th>\n",
       "      <td>0.069000</td>\n",
       "      <td>0.121000</td>\n",
       "      <td>0.000000</td>\n",
       "      <td>0.713000</td>\n",
       "      <td>0.739600</td>\n",
       "    </tr>\n",
       "    <tr>\n",
       "      <th>50%</th>\n",
       "      <td>0.146000</td>\n",
       "      <td>0.180000</td>\n",
       "      <td>0.029000</td>\n",
       "      <td>0.776000</td>\n",
       "      <td>0.931100</td>\n",
       "    </tr>\n",
       "    <tr>\n",
       "      <th>75%</th>\n",
       "      <td>0.230000</td>\n",
       "      <td>0.251000</td>\n",
       "      <td>0.062000</td>\n",
       "      <td>0.829000</td>\n",
       "      <td>0.977300</td>\n",
       "    </tr>\n",
       "    <tr>\n",
       "      <th>max</th>\n",
       "      <td>1.000000</td>\n",
       "      <td>1.000000</td>\n",
       "      <td>0.773000</td>\n",
       "      <td>1.000000</td>\n",
       "      <td>0.999800</td>\n",
       "    </tr>\n",
       "  </tbody>\n",
       "</table>\n",
       "</div>"
      ],
      "text/plain": [
       "       combined_nltk       pos_nltk       neg_nltk       neu_nltk  \\\n",
       "count  245127.000000  245127.000000  245127.000000  245127.000000   \n",
       "mean        0.152586       0.194614       0.042028       0.763353   \n",
       "std         0.135020       0.106829       0.049761       0.097719   \n",
       "min        -0.773000       0.000000       0.000000       0.000000   \n",
       "25%         0.069000       0.121000       0.000000       0.713000   \n",
       "50%         0.146000       0.180000       0.029000       0.776000   \n",
       "75%         0.230000       0.251000       0.062000       0.829000   \n",
       "max         1.000000       1.000000       0.773000       1.000000   \n",
       "\n",
       "       compound_nltk  \n",
       "count  245127.000000  \n",
       "mean        0.707457  \n",
       "std         0.494958  \n",
       "min        -0.998500  \n",
       "25%         0.739600  \n",
       "50%         0.931100  \n",
       "75%         0.977300  \n",
       "max         0.999800  "
      ]
     },
     "execution_count": 16,
     "metadata": {},
     "output_type": "execute_result"
    }
   ],
   "source": [
    "# examine the sentiment analysis descriptive statistics\n",
    "to[[\"combined_nltk\", \"pos_nltk\", \"neg_nltk\", \"neu_nltk\", \"compound_nltk\"]].describe()"
   ]
  },
  {
   "cell_type": "code",
   "execution_count": 39,
   "metadata": {},
   "outputs": [
    {
     "data": {
      "image/png": "[encoded data removed]",
      "text/plain": [
       "<matplotlib.figure.Figure at 0x15b9157f0>"
      ]
     },
     "metadata": {},
     "output_type": "display_data"
    }
   ],
   "source": [
    "# violin plot of star rating and sentiment scores\n",
    "sns.violinplot(x=to.stars_y, y=to.combined_nltk)\n",
    "plt.xlabel(\"Star Rating\")\n",
    "plt.ylabel(\"Sentiment Scores\")\n",
    "plt.tight_layout();\n",
    "\n",
    "plt.savefig(\"sentiment_rating_violinplot.png\", dpi=900);"
   ]
  },
  {
   "cell_type": "markdown",
   "metadata": {},
   "source": [
    "In general, positive reviews had higher star ratings compared to the negative reviews (i.e., mean and median)."
   ]
  },
  {
   "cell_type": "code",
   "execution_count": 91,
   "metadata": {},
   "outputs": [
    {
     "data": {
      "text/html": [
       "<div>\n",
       "<style>\n",
       "    .dataframe thead tr:only-child th {\n",
       "        text-align: right;\n",
       "    }\n",
       "\n",
       "    .dataframe thead th {\n",
       "        text-align: left;\n",
       "    }\n",
       "\n",
       "    .dataframe tbody tr th {\n",
       "        vertical-align: top;\n",
       "    }\n",
       "</style>\n",
       "<table border=\"1\" class=\"dataframe\">\n",
       "  <thead>\n",
       "    <tr>\n",
       "      <th></th>\n",
       "      <th colspan=\"8\" halign=\"left\">stars_y</th>\n",
       "    </tr>\n",
       "    <tr>\n",
       "      <th></th>\n",
       "      <th>count</th>\n",
       "      <th>mean</th>\n",
       "      <th>std</th>\n",
       "      <th>min</th>\n",
       "      <th>25%</th>\n",
       "      <th>50%</th>\n",
       "      <th>75%</th>\n",
       "      <th>max</th>\n",
       "    </tr>\n",
       "    <tr>\n",
       "      <th>positive_negative</th>\n",
       "      <th></th>\n",
       "      <th></th>\n",
       "      <th></th>\n",
       "      <th></th>\n",
       "      <th></th>\n",
       "      <th></th>\n",
       "      <th></th>\n",
       "      <th></th>\n",
       "    </tr>\n",
       "  </thead>\n",
       "  <tbody>\n",
       "    <tr>\n",
       "      <th>Negative</th>\n",
       "      <td>1531.0</td>\n",
       "      <td>1.515349</td>\n",
       "      <td>0.982989</td>\n",
       "      <td>1.0</td>\n",
       "      <td>1.0</td>\n",
       "      <td>1.0</td>\n",
       "      <td>2.0</td>\n",
       "      <td>5.0</td>\n",
       "    </tr>\n",
       "    <tr>\n",
       "      <th>Positive</th>\n",
       "      <td>30528.0</td>\n",
       "      <td>4.477234</td>\n",
       "      <td>0.650819</td>\n",
       "      <td>1.0</td>\n",
       "      <td>4.0</td>\n",
       "      <td>5.0</td>\n",
       "      <td>5.0</td>\n",
       "      <td>5.0</td>\n",
       "    </tr>\n",
       "  </tbody>\n",
       "</table>\n",
       "</div>"
      ],
      "text/plain": [
       "                   stars_y                                             \n",
       "                     count      mean       std  min  25%  50%  75%  max\n",
       "positive_negative                                                      \n",
       "Negative            1531.0  1.515349  0.982989  1.0  1.0  1.0  2.0  5.0\n",
       "Positive           30528.0  4.477234  0.650819  1.0  4.0  5.0  5.0  5.0"
      ]
     },
     "execution_count": 91,
     "metadata": {},
     "output_type": "execute_result"
    }
   ],
   "source": [
    "to[\"positive_negative\"] = ['Positive' if polarity > 0.3 else 'Negative' if polarity < -0.2 else np.nan for polarity in to.combined_nltk]\n",
    "to[[\"positive_negative\", \"stars_y\"]].groupby(\"positive_negative\").describe()"
   ]
  },
  {
   "cell_type": "code",
   "execution_count": 92,
   "metadata": {},
   "outputs": [
    {
     "data": {
      "image/png": "[encoded data removed]",
      "text/plain": [
       "<matplotlib.figure.Figure at 0x11e293828>"
      ]
     },
     "metadata": {},
     "output_type": "display_data"
    }
   ],
   "source": [
    "# bar plot of positive and negative reviews and mean star rating\n",
    "sns.barplot(x=to.positive_negative, y=to.stars_y)\n",
    "plt.xlabel(\"Reviews\")\n",
    "plt.ylabel(\"Mean Star Rating\")\n",
    "plt.ylim(0,5)\n",
    "plt.tight_layout()\n",
    "\n",
    "plt.savefig(\"reviews_rating_barplot.png\", dpi=900);"
   ]
  },
  {
   "cell_type": "code",
   "execution_count": 93,
   "metadata": {},
   "outputs": [
    {
     "data": {
      "image/png": "[encoded data removed]",
      "text/plain": [
       "<matplotlib.figure.Figure at 0x11d5777b8>"
      ]
     },
     "metadata": {},
     "output_type": "display_data"
    }
   ],
   "source": [
    "# histogram of star ratings of positive and negative reviews\n",
    "positive_stars = to[to.positive_negative==\"Positive\"].stars_y\n",
    "negative_stars = to[to.positive_negative==\"Negative\"].stars_y\n",
    "\n",
    "plt.subplot(1,2,1)\n",
    "plt.hist(positive_stars, bins=5)\n",
    "plt.xlabel(\"Star Ratings of Positive Reviews\")\n",
    "plt.ylabel(\"Counts\")\n",
    "\n",
    "plt.subplot(1,2,2)\n",
    "plt.hist(negative_stars, bins=5)\n",
    "plt.xlabel(\"Star Ratings of Negative Reviews\")\n",
    "\n",
    "plt.savefig(\"positive_negative_stars_histograms.png\", dpi=900);"
   ]
  },
  {
   "cell_type": "code",
   "execution_count": 94,
   "metadata": {},
   "outputs": [
    {
     "data": {
      "text/plain": [
       "Positive    30528\n",
       "Negative     1531\n",
       "Name: positive_negative, dtype: int64"
      ]
     },
     "execution_count": 94,
     "metadata": {},
     "output_type": "execute_result"
    }
   ],
   "source": [
    "to.positive_negative.value_counts()"
   ]
  },
  {
   "cell_type": "markdown",
   "metadata": {
    "collapsed": true
   },
   "source": [
    "### Wordcloud Visualizations"
   ]
  },
  {
   "cell_type": "code",
   "execution_count": 15,
   "metadata": {
    "collapsed": true
   },
   "outputs": [],
   "source": [
    "# helper function to create word clouds\n",
    "def create_wordcloud(text_list, mask, filename, n_words=100):\n",
    "    wordcloud = WordCloud(background_color=\"white\", stopwords=STOPWORDS, mask=mask, max_font_size=100, max_words=n_words, width=600, height=600)\n",
    "    wordcloud.generate(\" \".join(text_list))\n",
    "    plt.imshow(wordcloud, interpolation='bilinear')\n",
    "    plt.axis(\"off\")\n",
    "    if filename:\n",
    "        plt.savefig(filename, dpi=600)\n",
    "    plt.show();"
   ]
  },
  {
   "cell_type": "code",
   "execution_count": 16,
   "metadata": {
    "collapsed": true
   },
   "outputs": [],
   "source": [
    "# load masks for wordclouds\n",
    "thumbsup_mask = imread('thumbsup2.001.png')\n",
    "thumbsdown_mask = imread('thumbsdown.001.png')"
   ]
  },
  {
   "cell_type": "markdown",
   "metadata": {},
   "source": [
    "### Latent Topics in Positive Reviews\n",
    "\n",
    "I explored a few different latent topic modeling methods (i.e., latent semantic analysis (LSA), latent Dirichlet allocation (LDA), and non-negative matrix factorization (NMF)). After examining the latent topics, NMF looked like the better choice. Including bigrams in the analysis didn't add relevant information."
   ]
  },
  {
   "cell_type": "code",
   "execution_count": 6,
   "metadata": {},
   "outputs": [
    {
     "data": {
      "text/plain": [
       "5990"
      ]
     },
     "execution_count": 6,
     "metadata": {},
     "output_type": "execute_result"
    }
   ],
   "source": [
    "# vectorize bag positive reviews using tfidf\n",
    "tfidf = TfidfVectorizer(min_df=0.0001)\n",
    "X_positive = tfidf.fit_transform(positive_reviews)\n",
    "positive_word_list = tfidf.get_feature_names()\n",
    "len(positive_word_list)"
   ]
  },
  {
   "cell_type": "code",
   "execution_count": 7,
   "metadata": {},
   "outputs": [
    {
     "data": {
      "text/plain": [
       "(30528, 5990)"
      ]
     },
     "execution_count": 7,
     "metadata": {},
     "output_type": "execute_result"
    }
   ],
   "source": [
    "X_positive.shape"
   ]
  },
  {
   "cell_type": "markdown",
   "metadata": {
    "collapsed": true
   },
   "source": [
    "#### Dimensionality Reduction"
   ]
  },
  {
   "cell_type": "code",
   "execution_count": 8,
   "metadata": {},
   "outputs": [
    {
     "name": "stdout",
     "output_type": "stream",
     "text": [
      "[[ 0.          0.          0.         ...,  0.          0.          0.        ]\n",
      " [ 0.          0.          0.         ...,  0.          0.          0.        ]\n",
      " [ 0.          0.          0.10186283 ...,  0.          0.          0.00926144]\n",
      " [ 0.          0.          0.         ...,  0.          0.          0.        ]\n",
      " [ 0.          0.          0.00872517 ...,  0.          0.          0.        ]\n",
      " [ 0.          0.          0.01287906 ...,  0.          0.          0.        ]]\n"
     ]
    }
   ],
   "source": [
    "# identify latent topics using non-negative matrix factorization (NMF)\n",
    "nmf = NMF(n_components=6, random_state=111, alpha=.1, l1_ratio=.5, init='nndsvd')\n",
    "X_positive_reduced = nmf.fit_transform(X_positive)\n",
    "components = nmf.components_\n",
    "print(components)"
   ]
  },
  {
   "cell_type": "code",
   "execution_count": 9,
   "metadata": {},
   "outputs": [
    {
     "data": {
      "text/plain": [
       "(30528, 6)"
      ]
     },
     "execution_count": 9,
     "metadata": {},
     "output_type": "execute_result"
    }
   ],
   "source": [
    "X_positive_reduced.shape"
   ]
  },
  {
   "cell_type": "code",
   "execution_count": 10,
   "metadata": {},
   "outputs": [
    {
     "name": "stdout",
     "output_type": "stream",
     "text": [
      "topic 0\n",
      "[('great', 8.719874933133358), ('food', 4.003505067603335), ('service', 3.5520760004602039), ('atmosphere', 1.9102342981682947), ('excellent', 1.3097768422354452), ('place', 1.2979306662863113), ('price', 1.2292964504878729), ('drink', 0.98643612549027482), ('beer', 0.87494365140410191), ('fantastic', 0.82684094827326171), ('selection', 0.76520016554464942), ('spot', 0.75975875274161597), ('awesome', 0.67607025437271884), ('patio', 0.66065473655946871), ('night', 0.63499280458329677), ('experience', 0.62196432094212395), ('wine', 0.54869553839936414), ('menu', 0.53201794219226994), ('dinner', 0.51240459768830571), ('time', 0.50720168777072461)] \n",
      "\n",
      "topic 1\n",
      "[('good', 9.4335745064262557), ('price', 2.1446252424029821), ('pretty', 2.018501083234185), ('food', 1.8468080434249214), ('service', 1.3332505146837634), ('place', 1.174413042200902), ('ve', 1.0779370899833367), ('nice', 0.94136111163748104), ('like', 0.81666133056283796), ('portion', 0.78224121856794449), ('quality', 0.59490646526007285), ('thai', 0.59397780595765182), ('decent', 0.53578817480764618), ('eat', 0.53254155024488203), ('burger', 0.52709195956605182), ('value', 0.50725826638966687), ('city', 0.48855007356665003), ('taste', 0.46055333005856958), ('beer', 0.45722705269275449), ('cheap', 0.45691742146513703)] \n",
      "\n",
      "topic 2\n",
      "[('delicious', 3.347263526043649), ('amazing', 2.6969394222061442), ('definitely', 2.5297900160097089), ('recommend', 2.3229597647524471), ('come', 2.0162572880113157), ('try', 1.9107144526584765), ('order', 1.6401800746746804), ('chicken', 1.4612697191462491), ('time', 1.3581897771102525), ('fresh', 1.3435304744108518), ('highly', 1.3331239441095031), ('like', 1.3304879941600782), ('friend', 1.2158596835256907), ('go', 1.1307127516914379), ('dish', 1.1178383127822173), ('salad', 1.0542978638058051), ('pizza', 1.0117338124433357), ('get', 0.9320801173747344), ('burger', 0.8939412911998188), ('food', 0.89096976512990922)] \n",
      "\n",
      "topic 3\n",
      "[('sushi', 6.3057925082944912), ('fresh', 2.1224355170930678), ('roll', 2.0404777159568979), ('sashimi', 0.95588568983479916), ('price', 0.76047469121474209), ('quality', 0.68726581452344437), ('fish', 0.59056106201059133), ('salmon', 0.54030717005871121), ('place', 0.4455747022986602), ('lunch', 0.40988952536545659), ('great', 0.38291063085789989), ('service', 0.36625304471726572), ('japanese', 0.34043111616673682), ('reasonable', 0.28867638474594182), ('maki', 0.28756302983526366), ('ayce', 0.2799246782146384), ('tempura', 0.26302801409227411), ('excellent', 0.25126359630907452), ('recommend', 0.24220463119449634), ('rice', 0.24144878934703906)] \n",
      "\n",
      "topic 4\n",
      "[('love', 8.591805406230467), ('place', 3.8060724868389824), ('food', 0.4650871627281728), ('time', 0.38158275429924221), ('friend', 0.34974141447291546), ('awesome', 0.34686303637140603), ('favorite', 0.33352906653843689), ('try', 0.29687760458539275), ('coffee', 0.29191081919959599), ('eat', 0.29145088713339679), ('absolutely', 0.2875258101514751), ('favourite', 0.27315626748369354), ('like', 0.23994103308823694), ('people', 0.23453259912653532), ('feel', 0.22280950441584138), ('vegan', 0.21632512974041279), ('work', 0.19535251694433714), ('atmosphere', 0.1899785445295562), ('yummy', 0.18528243233978425), ('decor', 0.18520433709799394)] \n",
      "\n",
      "topic 5\n",
      "[('friendly', 5.6938107662369566), ('staff', 5.4840466867720563), ('nice', 3.8449603718611929), ('super', 1.6795057559428572), ('coffee', 1.1339426916827562), ('place', 0.98624757545850883), ('clean', 0.87413404215274382), ('atmosphere', 0.8582898307635487), ('helpful', 0.82712625502426707), ('cozy', 0.581248483918548), ('food', 0.5782120031182455), ('owner', 0.52175693277489077), ('breakfast', 0.50841370960153975), ('patio', 0.47695971389677566), ('attentive', 0.44307363453019505), ('tasty', 0.41497036195684522), ('little', 0.40302597711711569), ('selection', 0.36274483358034798), ('decor', 0.34746850157310233), ('wait', 0.34485326377154707)] \n",
      "\n"
     ]
    }
   ],
   "source": [
    "# examine the top 20 words associated with each latent topic\n",
    "for index,values in enumerate(components):\n",
    "    print(\"topic {}\".format(index))\n",
    "    temp = list(zip(positive_word_list, components[index]))\n",
    "    print(sorted(temp, key=lambda x: x[1], reverse=True)[:20],\"\\n\")"
   ]
  },
  {
   "cell_type": "markdown",
   "metadata": {},
   "source": [
    "### Clustering\n",
    "\n",
    "I explored a few different unsupervised clustering methods (i.e., K-means, agglomerative clustering, and DBSCAN). After examining the clusters, K-means produced the most well-distributed clusters."
   ]
  },
  {
   "cell_type": "code",
   "execution_count": 13,
   "metadata": {},
   "outputs": [
    {
     "data": {
      "text/plain": [
       "(30528, 6)"
      ]
     },
     "execution_count": 13,
     "metadata": {},
     "output_type": "execute_result"
    }
   ],
   "source": [
    "X_positive_reduced.shape"
   ]
  },
  {
   "cell_type": "code",
   "execution_count": 14,
   "metadata": {
    "collapsed": true
   },
   "outputs": [],
   "source": [
    "# try out a range of cluster sizes to find the one with the best inertia and silhouette scores\n",
    "ns = np.arange(2, 20, 1)\n",
    "inertias = []\n",
    "silhouettes = []\n",
    "\n",
    "for n in ns:\n",
    "    kmeans = KMeans(n_clusters=n, init=\"k-means++\", random_state=123)\n",
    "    kmeans.fit(X_positive_reduced)\n",
    "    inertias.append(kmeans.inertia_)\n",
    "    labels = kmeans.labels_\n",
    "    # only a sample was used to calculate silhouette score because of memory errors\n",
    "    silhouettes.append(silhouette_score(X_positive_reduced, labels, metric='euclidean', sample_size=5000))\n",
    "    "
   ]
  },
  {
   "cell_type": "code",
   "execution_count": 15,
   "metadata": {},
   "outputs": [
    {
     "data": {
      "image/png": "[encoded data removed]",
      "text/plain": [
       "<matplotlib.figure.Figure at 0x11ec89dd8>"
      ]
     },
     "metadata": {},
     "output_type": "display_data"
    }
   ],
   "source": [
    "# plot the inertia scores and look for the kink in the curve\n",
    "plt.plot(ns, inertias)\n",
    "plt.xlabel('n_cluster')\n",
    "plt.ylabel('inertia');"
   ]
  },
  {
   "cell_type": "code",
   "execution_count": 16,
   "metadata": {},
   "outputs": [
    {
     "data": {
      "image/png": "[encoded data removed]",
      "text/plain": [
       "<matplotlib.figure.Figure at 0x11ec89860>"
      ]
     },
     "metadata": {},
     "output_type": "display_data"
    }
   ],
   "source": [
    "# plot the silhouettte scores\n",
    "plt.plot(ns, silhouettes)\n",
    "plt.xlabel('n_cluster')\n",
    "plt.ylabel('sihouette score');"
   ]
  },
  {
   "cell_type": "code",
   "execution_count": 11,
   "metadata": {
    "scrolled": true
   },
   "outputs": [
    {
     "name": "stdout",
     "output_type": "stream",
     "text": [
      "Inertia score: 4.0629909904310475\n",
      "Silhouette score: 0.23843834395690375\n"
     ]
    }
   ],
   "source": [
    "# based on inertia and silhouette scores, a cluster size of 6 was selected\n",
    "kmeans = KMeans(n_clusters=6, init=\"k-means++\", random_state=824)\n",
    "kmeans.fit(X_positive_reduced)\n",
    "positive_labels = kmeans.labels_\n",
    "print(\"Inertia score: {}\".format(kmeans.inertia_))\n",
    "print(\"Silhouette score: {}\".format(silhouette_score(X_positive_reduced, positive_labels, metric='euclidean', sample_size=5000, random_state=824))) #memory error"
   ]
  },
  {
   "cell_type": "code",
   "execution_count": 12,
   "metadata": {},
   "outputs": [
    {
     "name": "stdout",
     "output_type": "stream",
     "text": [
      "Cluster 0 has 5666 reviews.\n",
      "Cluster 1 has 3974 reviews.\n",
      "Cluster 2 has 10410 reviews.\n",
      "Cluster 3 has 1222 reviews.\n",
      "Cluster 4 has 3634 reviews.\n",
      "Cluster 5 has 5622 reviews.\n"
     ]
    }
   ],
   "source": [
    "# examine the number of reviews for in each cluster\n",
    "for cluster in range(len(set(positive_labels))):\n",
    "    print(\"Cluster {} has {} reviews.\".format(cluster, sum(positive_labels==cluster)))"
   ]
  },
  {
   "cell_type": "markdown",
   "metadata": {},
   "source": [
    "### Visualization of Clusters"
   ]
  },
  {
   "cell_type": "code",
   "execution_count": 103,
   "metadata": {},
   "outputs": [],
   "source": [
    "df_positive_reduced = pd.DataFrame(X_positive_reduced)\n",
    "df_positive_reduced['positive_reviews'] = positive_reviews\n",
    "df_positive_reduced['positive_labels'] = positive_labels"
   ]
  },
  {
   "cell_type": "code",
   "execution_count": 31,
   "metadata": {
    "collapsed": true
   },
   "outputs": [],
   "source": [
    "positive_complete_text = to[to.combined_nltk > 0.3][\"text\"].reset_index()"
   ]
  },
  {
   "cell_type": "code",
   "execution_count": 57,
   "metadata": {},
   "outputs": [
    {
     "data": {
      "image/png": "[encoded data removed]",
      "text/plain": [
       "<matplotlib.figure.Figure at 0x167fb4b00>"
      ]
     },
     "metadata": {},
     "output_type": "display_data"
    }
   ],
   "source": [
    "# visualize positive review cluster 1\n",
    "positive_cluster1 = list(df_positive_reduced[df_positive_reduced.positive_labels==1].positive_reviews)\n",
    "create_wordcloud(positive_cluster1, thumbsup_mask, None)"
   ]
  },
  {
   "cell_type": "code",
   "execution_count": 47,
   "metadata": {},
   "outputs": [
    {
     "name": "stdout",
     "output_type": "stream",
     "text": [
      "Original Review: Great place for some spicy coconut curries.  Can't say if it is authentic Cambodian, but it is delicious.  It is small and not well decorated, but the food is terrific and the staff pleasant and helpful.  Very reasonable prices.\n"
     ]
    }
   ],
   "source": [
    "# example of a review in cluster 1\n",
    "print(\"Original Review: {}\".format(positive_complete_text.iloc[17826,:].text))"
   ]
  },
  {
   "cell_type": "code",
   "execution_count": 53,
   "metadata": {},
   "outputs": [
    {
     "data": {
      "image/png": "[encoded data removed]",
      "text/plain": [
       "<matplotlib.figure.Figure at 0x1614cc9b0>"
      ]
     },
     "metadata": {},
     "output_type": "display_data"
    }
   ],
   "source": [
    "# visualize positive review cluster 2\n",
    "positive_cluster2 = list(df_positive_reduced[df_positive_reduced.positive_labels==2].positive_reviews)\n",
    "create_wordcloud(positive_cluster2, thumbsup_mask, None)"
   ]
  },
  {
   "cell_type": "code",
   "execution_count": 58,
   "metadata": {},
   "outputs": [
    {
     "name": "stdout",
     "output_type": "stream",
     "text": [
      "Original Review: Excellent fresh food, well priced and amazing service. I had the gyro sandwich, best I've had to date. The dinner platter even comes with Dessert!\n"
     ]
    }
   ],
   "source": [
    "# example of a review in cluster 2\n",
    "print(\"Original Review: {}\".format(positive_complete_text.iloc[9502,:].text))"
   ]
  },
  {
   "cell_type": "code",
   "execution_count": 22,
   "metadata": {},
   "outputs": [
    {
     "data": {
      "image/png": "[encoded data removed]",
      "text/plain": [
       "<matplotlib.figure.Figure at 0x15c9fb198>"
      ]
     },
     "metadata": {},
     "output_type": "display_data"
    }
   ],
   "source": [
    "# visualize positive review cluster 3\n",
    "positive_cluster3 = list(df_positive_reduced[df_positive_reduced.positive_labels==3].positive_reviews)\n",
    "create_wordcloud(positive_cluster3, thumbsup_mask, None)"
   ]
  },
  {
   "cell_type": "code",
   "execution_count": 38,
   "metadata": {},
   "outputs": [
    {
     "name": "stdout",
     "output_type": "stream",
     "text": [
      "Original Review: Ordered take out last week and it was AMAZING! Rolls made fresh in front of you. I had the avocado roll and the spicy crab roll, both delicious. Staff were very friendly. Would definitely go. Glad I found this gem.\n"
     ]
    }
   ],
   "source": [
    "# example of a review in cluster 3\n",
    "print(\"Original Review: {}\".format(positive_complete_text.iloc[964,:].text))"
   ]
  },
  {
   "cell_type": "markdown",
   "metadata": {},
   "source": [
    "### Latent Topics in Negative Reviews"
   ]
  },
  {
   "cell_type": "code",
   "execution_count": 59,
   "metadata": {},
   "outputs": [
    {
     "data": {
      "text/plain": [
       "562"
      ]
     },
     "execution_count": 59,
     "metadata": {},
     "output_type": "execute_result"
    }
   ],
   "source": [
    "# vectorize bag positive reviews using tfidf\n",
    "tfidf = TfidfVectorizer(min_df=0.005)\n",
    "X = tfidf.fit_transform(negative_reviews)\n",
    "negative_word_list = tfidf.get_feature_names()\n",
    "len(negative_word_list)"
   ]
  },
  {
   "cell_type": "code",
   "execution_count": 60,
   "metadata": {},
   "outputs": [
    {
     "data": {
      "text/plain": [
       "1531"
      ]
     },
     "execution_count": 60,
     "metadata": {},
     "output_type": "execute_result"
    }
   ],
   "source": [
    "x = list(X)\n",
    "len(x)"
   ]
  },
  {
   "cell_type": "markdown",
   "metadata": {
    "collapsed": true
   },
   "source": [
    "#### Dimensionality Reduction"
   ]
  },
  {
   "cell_type": "code",
   "execution_count": 61,
   "metadata": {},
   "outputs": [
    {
     "name": "stdout",
     "output_type": "stream",
     "text": [
      "[[ 0.02925495  0.02822097  0.02222956 ...,  0.          0.01275363\n",
      "   0.04997379]\n",
      " [ 0.          0.1120912   0.01402064 ...,  0.02103331  0.          0.        ]\n",
      " [ 0.          0.04835934  0.01403202 ...,  0.          0.          0.        ]\n",
      " [ 0.          0.11331515  0.05941708 ...,  0.          0.00724153\n",
      "   0.0029688 ]\n",
      " [ 0.          0.02178262  0.         ...,  0.          0.          0.00051007]\n",
      " [ 0.          0.03765172  0.0442465  ...,  0.          0.          0.        ]]\n"
     ]
    }
   ],
   "source": [
    "# identify latent topics using non-negative matrix factorization (NMF)\n",
    "nmf = NMF(n_components=6, random_state=111, alpha=.1, l1_ratio=.5, init='nndsvd')\n",
    "X_negative_reduced = nmf.fit_transform(X)\n",
    "components = nmf.components_\n",
    "print(components)"
   ]
  },
  {
   "cell_type": "code",
   "execution_count": 62,
   "metadata": {},
   "outputs": [
    {
     "data": {
      "text/plain": [
       "(1531, 6)"
      ]
     },
     "execution_count": 62,
     "metadata": {},
     "output_type": "execute_result"
    }
   ],
   "source": [
    "X_negative_reduced.shape"
   ]
  },
  {
   "cell_type": "code",
   "execution_count": 63,
   "metadata": {},
   "outputs": [
    {
     "name": "stdout",
     "output_type": "stream",
     "text": [
      "topic 0\n",
      "[('bad', 3.4072097185251944), ('service', 1.005868361455591), ('ve', 0.59344657062290618), ('experience', 0.44230631427802847), ('food', 0.31021201341066651), ('don', 0.2593413320212361), ('customer', 0.25643986941778601), ('eat', 0.24859679779565491), ('sushi', 0.24542929534779342), ('waitress', 0.23815531529450482), ('come', 0.20640680304783082), ('taste', 0.18819659289822585), ('review', 0.18173445941600003), ('go', 0.17329573660177142), ('attitude', 0.16540009926110333), ('smell', 0.16032552874090822), ('suck', 0.15126762484746203), ('recommend', 0.14927306142303426), ('drink', 0.14037086745547087), ('fresh', 0.13748026705235103)] \n",
      "\n",
      "topic 1\n",
      "[('rude', 2.3005395413152838), ('staff', 1.4745502786592555), ('service', 0.6475154887639214), ('customer', 0.58654194924477032), ('extremely', 0.49432271474001299), ('waitress', 0.40877767789733183), ('waiter', 0.38758929528223135), ('wait', 0.30553089218149304), ('time', 0.28912147787871423), ('manager', 0.27526977478288372), ('awful', 0.27302902472449125), ('owner', 0.26346942285460712), ('go', 0.25000246680183696), ('come', 0.24415481044413695), ('horrible', 0.21302418115364646), ('ask', 0.1974913607171678), ('table', 0.18927026817393869), ('dirty', 0.18333887781153035), ('win', 0.17883546625760394), ('experience', 0.16782407799153454)] \n",
      "\n",
      "topic 2\n",
      "[('order', 2.1348555293006983), ('wrong', 0.90642404595253756), ('time', 0.68856597670240538), ('wait', 0.65153633034004965), ('hour', 0.62095052063784617), ('get', 0.58751347136952192), ('take', 0.58674024829487448), ('delivery', 0.5359616154664617), ('pizza', 0.42849214441178096), ('min', 0.3877493220106451), ('come', 0.33085531331428286), ('don', 0.26812729690968201), ('ask', 0.25304896265382865), ('leave', 0.23765714234693502), ('dish', 0.23551667555111985), ('half', 0.23512536367917403), ('tell', 0.20249178121831085), ('arrive', 0.18899930522417616), ('long', 0.18851278020535145), ('minute', 0.17828518894370313)] \n",
      "\n",
      "topic 3\n",
      "[('food', 2.0805633931559817), ('good', 1.1144375345537487), ('price', 0.84071406775051649), ('horrible', 0.83380430932217553), ('service', 0.6671277122001249), ('poor', 0.64253666210826976), ('chicken', 0.60636154224096961), ('taste', 0.53817467096847804), ('great', 0.47290686422621608), ('quality', 0.41235467089278671), ('like', 0.39704887054418325), ('go', 0.39233095913867194), ('bland', 0.32139459392781428), ('poisoning', 0.2921628071712038), ('come', 0.28228664624380134), ('eat', 0.27579136266400156), ('try', 0.27412106062415686), ('server', 0.26842476775240665), ('worth', 0.25103095879236315), ('portion', 0.24911129714288407)] \n",
      "\n",
      "topic 4\n",
      "[('place', 3.2112851839694105), ('dirty', 0.35734856704090517), ('recommend', 0.28169060167358967), ('avoid', 0.23756372985276319), ('sad', 0.22482759822505854), ('close', 0.20673202747296576), ('eat', 0.2006859309756957), ('look', 0.18706254606055561), ('review', 0.18511065432432228), ('don', 0.15528369755289384), ('sushi', 0.14280565075749974), ('go', 0.13166232491664923), ('thing', 0.12348489786451926), ('disgusting', 0.11893276357199049), ('like', 0.1121981860139569), ('star', 0.099750127792195747), ('care', 0.096801605272318597), ('big', 0.093251288369218852), ('suck', 0.091165241045332024), ('fry', 0.09029070004622837)] \n",
      "\n",
      "topic 5\n",
      "[('terrible', 2.8633188908076779), ('service', 0.87139860903563693), ('food', 0.45869406316890948), ('slow', 0.24931822959693972), ('avoid', 0.17232923052123619), ('cold', 0.1654505608262791), ('customer', 0.16191501123190691), ('eat', 0.1555171776073814), ('stay', 0.12247948495553149), ('ask', 0.11413367586643317), ('burger', 0.11365446887885623), ('forever', 0.1133031126357301), ('business', 0.10629701750696406), ('location', 0.10137882025715871), ('go', 0.086697834940146004), ('let', 0.085205886810904796), ('take', 0.084681599354601109), ('atmosphere', 0.082758803207947068), ('overprice', 0.080429205620087915), ('cost', 0.07793993908277308)] \n",
      "\n"
     ]
    }
   ],
   "source": [
    "# examine the top 20 words associated with each latent topic\n",
    "for index,values in enumerate(components):\n",
    "    print(\"topic {}\".format(index))\n",
    "    temp = list(zip(negative_word_list, components[index]))\n",
    "    print(sorted(temp, key=lambda x: x[1], reverse=True)[:20],\"\\n\")"
   ]
  },
  {
   "cell_type": "markdown",
   "metadata": {},
   "source": [
    "### Clustering"
   ]
  },
  {
   "cell_type": "code",
   "execution_count": 64,
   "metadata": {
    "collapsed": true
   },
   "outputs": [],
   "source": [
    "# try out a range of cluster sizes to find the one with the best inertia and silhouette scores\n",
    "ns = np.arange(2, 20, 1)\n",
    "inertias = []\n",
    "Sil_coefs = []\n",
    "for n in ns:\n",
    "    kmeans = KMeans(n_clusters=n, init=\"k-means++\", random_state=81617).fit(X_negative_reduced)\n",
    "    inertias.append(kmeans.inertia_)\n",
    "    labels = kmeans.labels_\n",
    "    Sil_coefs.append(silhouette_score(X_negative_reduced, labels, metric='euclidean'))"
   ]
  },
  {
   "cell_type": "code",
   "execution_count": 65,
   "metadata": {},
   "outputs": [
    {
     "data": {
      "image/png": "[encoded data removed]",
      "text/plain": [
       "<matplotlib.figure.Figure at 0x15fa6d080>"
      ]
     },
     "metadata": {},
     "output_type": "display_data"
    }
   ],
   "source": [
    "# plot the inertia scores and look for the kink in the curve\n",
    "plt.plot(ns, inertias)\n",
    "plt.xlabel('n_cluster')\n",
    "plt.ylabel('inertia');"
   ]
  },
  {
   "cell_type": "code",
   "execution_count": 66,
   "metadata": {},
   "outputs": [
    {
     "data": {
      "image/png": "[encoded data removed]",
      "text/plain": [
       "<matplotlib.figure.Figure at 0x11e124080>"
      ]
     },
     "metadata": {},
     "output_type": "display_data"
    }
   ],
   "source": [
    "# plot the silhouette scores\n",
    "plt.plot(ns, Sil_coefs)\n",
    "plt.xlabel('n_cluster')\n",
    "plt.ylabel('Sihouette score');"
   ]
  },
  {
   "cell_type": "code",
   "execution_count": 67,
   "metadata": {
    "scrolled": true
   },
   "outputs": [
    {
     "name": "stdout",
     "output_type": "stream",
     "text": [
      "Inertia score: 3.091811524106161\n",
      "Silhouette score: 0.2829168396672965\n"
     ]
    }
   ],
   "source": [
    "# based on inertia and silhouette scores, a cluster size of 6 was selected\n",
    "kmeans = KMeans(n_clusters=6, init=\"k-means++\", random_state=824)\n",
    "kmeans.fit(X_negative_reduced)\n",
    "negative_labels = kmeans.labels_\n",
    "print(\"Inertia score: {}\".format(kmeans.inertia_))\n",
    "print(\"Silhouette score: {}\".format(silhouette_score(X_negative_reduced,negative_labels, metric='euclidean', sample_size=5000, random_state=824))) #memory error"
   ]
  },
  {
   "cell_type": "code",
   "execution_count": 68,
   "metadata": {},
   "outputs": [
    {
     "name": "stdout",
     "output_type": "stream",
     "text": [
      "Cluster 0 has 625 reviews.\n",
      "Cluster 1 has 165 reviews.\n",
      "Cluster 2 has 163 reviews.\n",
      "Cluster 3 has 211 reviews.\n",
      "Cluster 4 has 247 reviews.\n",
      "Cluster 5 has 120 reviews.\n"
     ]
    }
   ],
   "source": [
    "# examine the number of reviews for in each cluster\n",
    "for cluster in range(len(set(negative_labels))):\n",
    "    print(\"Cluster {} has {} reviews.\".format(cluster, sum(negative_labels==cluster)))"
   ]
  },
  {
   "cell_type": "markdown",
   "metadata": {},
   "source": [
    "### Visualization of Clusters"
   ]
  },
  {
   "cell_type": "code",
   "execution_count": 71,
   "metadata": {},
   "outputs": [],
   "source": [
    "df_negative_reduced = pd.DataFrame(X_negative_reduced)\n",
    "df_negative_reduced['negative_reviews'] = negative_reviews\n",
    "df_negative_reduced['negative_labels'] = negative_labels"
   ]
  },
  {
   "cell_type": "code",
   "execution_count": 97,
   "metadata": {
    "collapsed": true
   },
   "outputs": [],
   "source": [
    "negative_complete_text = to[to.combined_nltk < -0.2][\"text\"].reset_index()"
   ]
  },
  {
   "cell_type": "code",
   "execution_count": 104,
   "metadata": {},
   "outputs": [
    {
     "data": {
      "image/png": "[encoded data removed]",
      "text/plain": [
       "<matplotlib.figure.Figure at 0x168884ba8>"
      ]
     },
     "metadata": {},
     "output_type": "display_data"
    }
   ],
   "source": [
    "# visualize positive review cluster 1\n",
    "negative_cluster0 = list(df_negative_reduced[df_negative_reduced.negative_labels==1].negative_reviews)\n",
    "create_wordcloud(negative_cluster0, thumbsdown_mask, None, n_words=110)"
   ]
  },
  {
   "cell_type": "code",
   "execution_count": 100,
   "metadata": {},
   "outputs": [
    {
     "name": "stdout",
     "output_type": "stream",
     "text": [
      "Original Review: Wrong order times 3. Slow. Cheap. Bad presentation. Tastes bland. Where do I begin? I miss their old location and management on yonge street. That was a tightly run ship.\n"
     ]
    }
   ],
   "source": [
    "# example of a review in cluster 1\n",
    "print(\"Original Review: {}\".format(negative_complete_text.iloc[248,:].text))"
   ]
  },
  {
   "cell_type": "code",
   "execution_count": 106,
   "metadata": {},
   "outputs": [
    {
     "data": {
      "image/png": "[encoded data removed]",
      "text/plain": [
       "<matplotlib.figure.Figure at 0x16c380ef0>"
      ]
     },
     "metadata": {},
     "output_type": "display_data"
    }
   ],
   "source": [
    "# visualize positive review cluster 2\n",
    "negative_cluster2 = list(df_negative_reduced[df_negative_reduced.negative_labels==2].negative_reviews)\n",
    "create_wordcloud(negative_cluster2, thumbsdown_mask, None, n_words=100)"
   ]
  },
  {
   "cell_type": "code",
   "execution_count": 102,
   "metadata": {},
   "outputs": [
    {
     "name": "stdout",
     "output_type": "stream",
     "text": [
      "Original Review: lame service. rude/bossy waiter, disorganized service and over priced beer. Do not recommend.\n"
     ]
    }
   ],
   "source": [
    "# example of a review in cluster 2\n",
    "print(\"Original Review: {}\".format(negative_complete_text.iloc[1266,:].text))"
   ]
  },
  {
   "cell_type": "markdown",
   "metadata": {
    "collapsed": true
   },
   "source": [
    "### Summary\n",
    "\n",
    "Positive restaurant reviews often included positive adjectives, such as \"good\" and \"great\", while negative reviews included negative adjectives, \"bad\" and \"terrible\". These adjectives also appeared in many of the identified latent topics. Both positive and negative reviews commonly complimented or complained about food and service. These were the things that restaurant reviewers valued the most. To a lesser extent, reviewers also valued the atmosphere and price. Often reviews involved a mix of topics and sentiments.\n",
    "\n",
    "Overall, there a lot more positive reviews than negative reviews (almost 20 times more). There can be multiple reasons for this. In general, restaurant diners may have more positive than negative experiences; reviewers may be more inclined to post a review if they had a positive experience; or Yelp reviewers are a specific type of people (not representative of all restaurant diners), and they tend to have positive experiences or write positive reviews. It should be noted that these analyses were conducted on Toronto restaurant Yelp reviews and the results from these analyses may also not be applicable to restaurant reviews from other large cities.\n",
    "\n",
    "### Future Steps\n",
    "\n",
    "In the future, I would like to expand the cities included in the analyses and compare if different cities review similar topics in their restaurant reviews. I would also try to include word embedding to represent the context of each word."
   ]
  }
 ],
 "metadata": {
  "kernelspec": {
   "display_name": "Python 3",
   "language": "python",
   "name": "python3"
  },
  "language_info": {
   "codemirror_mode": {
    "name": "ipython",
    "version": 3
   },
   "file_extension": ".py",
   "mimetype": "text/x-python",
   "name": "python",
   "nbconvert_exporter": "python",
   "pygments_lexer": "ipython3",
   "version": "3.6.2"
  }
 },
 "nbformat": 4,
 "nbformat_minor": 2
}
